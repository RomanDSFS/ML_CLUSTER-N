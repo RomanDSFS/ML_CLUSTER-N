{
 "cells": [
  {
   "cell_type": "code",
   "execution_count": null,
   "id": "45204c6a-6f90-4750-b8a0-ad2ef1f2cacf",
   "metadata": {
    "ExecuteTime": {
     "end_time": "2023-07-07T21:24:14.740749+00:00",
     "start_time": "2023-07-07T21:24:14.197223+00:00"
    },
    "datalink": {
     "19f30a2c-3a04-49bd-9dfc-82a446410cbd": {
      "applied_filters": [],
      "dataframe_info": {
       "default_index_used": true,
       "orig_num_cols": 7,
       "orig_num_rows": 5,
       "orig_size_bytes": 320,
       "truncated_num_cols": 7,
       "truncated_num_rows": 5,
       "truncated_size_bytes": 320,
       "truncated_string_columns": []
      },
      "display_id": "19f30a2c-3a04-49bd-9dfc-82a446410cbd",
      "dx_settings": {
       "ALLOW_NOTEABLE_ATTRS": true,
       "COLUMN_SAMPLING_METHOD": "outer",
       "DB_LOCATION": ":memory:",
       "DEV_MODE": false,
       "DISPLAY_MAX_COLUMNS": 100,
       "DISPLAY_MAX_ROWS": 50000,
       "DISPLAY_MODE": "simple",
       "ENABLE_ASSIGNMENT": true,
       "ENABLE_DATALINK": true,
       "FLATTEN_COLUMN_VALUES": true,
       "FLATTEN_INDEX_VALUES": false,
       "GENERATE_DEX_METADATA": false,
       "HTML_TABLE_SCHEMA": false,
       "LOG_LEVEL": 30,
       "MAX_RENDER_SIZE_BYTES": 104857600,
       "MAX_STRING_LENGTH": 250,
       "NUM_PAST_SAMPLES_TRACKED": 3,
       "RANDOM_STATE": 12648430,
       "RESET_INDEX_VALUES": false,
       "ROW_SAMPLING_METHOD": "random",
       "SAMPLING_FACTOR": 0.1,
       "SAMPLING_METHOD": "random",
       "STRINGIFY_COLUMN_VALUES": true,
       "STRINGIFY_INDEX_VALUES": false
      },
      "sample_history": [],
      "sampling_time": "2023-07-07T21:24:14.581616",
      "user_variable_name": null,
      "variable_name": "unk_dataframe_a7c30bd7bfd74c03bc94d515d759c2fc"
     }
    },
    "noteable": {
     "cell_type": "code",
     "output_collection_id": "865faf50-8eb7-4ef3-957f-9c66a1b4a8ff"
    }
   },
   "outputs": [],
   "source": [
    "import pandas as pd\n",
    "from sklearn.preprocessing import LabelEncoder, StandardScaler\n",
    "from scipy import stats\n",
    "import numpy as np\n",
    "\n",
    "df = pd.read_csv('Companies_2.csv')\n",
    "df = df[['Name', 'Min progect size', 'Company Size', 'City', 'Scheduling', 'Quality', 'Cost']]\n",
    "\n",
    "# Encoding categorical variables\n",
    "le = LabelEncoder()\n",
    "df['City'] = le.fit_transform(df['City'])\n",
    "\n",
    "# Normalizing numerical variables\n",
    "numerical_columns = ['Min progect size', 'Company Size', 'Scheduling', 'Quality', 'Cost']\n",
    "scaler = StandardScaler()\n",
    "df[numerical_columns] = scaler.fit_transform(df[numerical_columns])\n",
    "\n",
    "# Removing outliers\n",
    "z_scores = stats.zscore(df[numerical_columns])\n",
    "abs_z_scores = np.abs(z_scores)\n",
    "filtered_entries = (abs_z_scores < 3).all(axis=1)\n",
    "df = df[filtered_entries]\n",
    "\n",
    "df.to_csv('preprocessed_data.csv', index=False)\n",
    "\n",
    "df.head()"
   ]
  }
 ],
 "metadata": {
  "kernelspec": {
   "display_name": "Python 3 (ipykernel)",
   "language": "python",
   "name": "python3"
  },
  "language_info": {
   "codemirror_mode": {
    "name": "ipython",
    "version": 3
   },
   "file_extension": ".py",
   "mimetype": "text/x-python",
   "name": "python",
   "nbconvert_exporter": "python",
   "pygments_lexer": "ipython3",
   "version": "3.10.11"
  },
  "noteable": {
   "last_transaction_id": "77733f3f-9ed4-4a84-b715-0d32b4d978ae"
  },
  "noteable-chatgpt": {
   "create_notebook": {
    "openai_conversation_id": "db829b11-5132-5353-9785-ea21431df643",
    "openai_ephemeral_user_id": "5e36a7f1-f2bd-51ba-b5b8-dee2791a4433"
   }
  }
 },
 "nbformat": 4,
 "nbformat_minor": 5
}
