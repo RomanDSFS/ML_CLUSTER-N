{
 "cells": [
  {
   "cell_type": "code",
   "execution_count": null,
   "id": "49cec248-a908-4359-8094-a159205d6748",
   "metadata": {
    "jupyter": {
     "outputs_hidden": false,
     "source_hidden": false
    },
    "noteable": {
     "cell_type": "code"
    }
   },
   "outputs": [],
   "source": []
  },
  {
   "cell_type": "code",
   "execution_count": null,
   "id": "4f40556d-8813-4243-8c1e-798d7aedc6ee",
   "metadata": {
    "ExecuteTime": {
     "end_time": "2023-07-07T21:13:36.925208+00:00",
     "start_time": "2023-07-07T21:13:36.718925+00:00"
    },
    "datalink": {
     "2bf5c3d6-08fc-4cef-bd18-beccb5e77ce9": {
      "applied_filters": [],
      "dataframe_info": {
       "default_index_used": true,
       "orig_num_cols": 7,
       "orig_num_rows": 5,
       "orig_size_bytes": 320,
       "truncated_num_cols": 7,
       "truncated_num_rows": 5,
       "truncated_size_bytes": 320,
       "truncated_string_columns": []
      },
      "display_id": "2bf5c3d6-08fc-4cef-bd18-beccb5e77ce9",
      "dx_settings": {
       "ALLOW_NOTEABLE_ATTRS": true,
       "COLUMN_SAMPLING_METHOD": "outer",
       "DB_LOCATION": ":memory:",
       "DEV_MODE": false,
       "DISPLAY_MAX_COLUMNS": 100,
       "DISPLAY_MAX_ROWS": 50000,
       "DISPLAY_MODE": "simple",
       "ENABLE_ASSIGNMENT": true,
       "ENABLE_DATALINK": true,
       "FLATTEN_COLUMN_VALUES": true,
       "FLATTEN_INDEX_VALUES": false,
       "GENERATE_DEX_METADATA": false,
       "HTML_TABLE_SCHEMA": false,
       "LOG_LEVEL": 30,
       "MAX_RENDER_SIZE_BYTES": 104857600,
       "MAX_STRING_LENGTH": 250,
       "NUM_PAST_SAMPLES_TRACKED": 3,
       "RANDOM_STATE": 12648430,
       "RESET_INDEX_VALUES": false,
       "ROW_SAMPLING_METHOD": "random",
       "SAMPLING_FACTOR": 0.1,
       "SAMPLING_METHOD": "random",
       "STRINGIFY_COLUMN_VALUES": true,
       "STRINGIFY_INDEX_VALUES": false
      },
      "sample_history": [],
      "sampling_time": "2023-07-07T21:13:36.768422",
      "user_variable_name": null,
      "variable_name": "unk_dataframe_b739f12361c84385b6162de8ab964fbf"
     }
    },
    "noteable": {
     "cell_type": "code",
     "output_collection_id": "bb51942d-2277-45f7-acd0-8b569d414a17"
    }
   },
   "outputs": [],
   "source": [
    "import pandas as pd\n",
    "\n",
    "df = pd.read_csv('Companies_2.csv')\n",
    "df = df[['Name', 'Min progect size', 'Company Size', 'City', 'Scheduling', 'Quality', 'Cost']]\n",
    "\n",
    "df.head()"
   ]
  },
  {
   "cell_type": "code",
   "execution_count": null,
   "id": "d9679b99-5d48-4d1a-8d8e-6f8240db9b77",
   "metadata": {
    "ExecuteTime": {
     "end_time": "2023-07-07T21:15:06.673220+00:00",
     "start_time": "2023-07-07T21:15:06.479326+00:00"
    },
    "datalink": {
     "bc93e865-01fa-4c6c-8a0d-7b970688bb10": {
      "applied_filters": [],
      "dataframe_info": {
       "default_index_used": false,
       "orig_num_cols": 1,
       "orig_num_rows": 7,
       "orig_size_bytes": 112,
       "truncated_num_cols": 1,
       "truncated_num_rows": 7,
       "truncated_size_bytes": 112,
       "truncated_string_columns": []
      },
      "display_id": "bc93e865-01fa-4c6c-8a0d-7b970688bb10",
      "dx_settings": {
       "ALLOW_NOTEABLE_ATTRS": true,
       "COLUMN_SAMPLING_METHOD": "outer",
       "DB_LOCATION": ":memory:",
       "DEV_MODE": false,
       "DISPLAY_MAX_COLUMNS": 100,
       "DISPLAY_MAX_ROWS": 50000,
       "DISPLAY_MODE": "simple",
       "ENABLE_ASSIGNMENT": true,
       "ENABLE_DATALINK": true,
       "FLATTEN_COLUMN_VALUES": true,
       "FLATTEN_INDEX_VALUES": false,
       "GENERATE_DEX_METADATA": false,
       "HTML_TABLE_SCHEMA": false,
       "LOG_LEVEL": 30,
       "MAX_RENDER_SIZE_BYTES": 104857600,
       "MAX_STRING_LENGTH": 250,
       "NUM_PAST_SAMPLES_TRACKED": 3,
       "RANDOM_STATE": 12648430,
       "RESET_INDEX_VALUES": false,
       "ROW_SAMPLING_METHOD": "random",
       "SAMPLING_FACTOR": 0.1,
       "SAMPLING_METHOD": "random",
       "STRINGIFY_COLUMN_VALUES": true,
       "STRINGIFY_INDEX_VALUES": false
      },
      "sample_history": [],
      "sampling_time": "2023-07-07T21:15:06.517711",
      "user_variable_name": null,
      "variable_name": "unk_dataframe_4439e4660d254552953cde8bf70e4076"
     }
    },
    "noteable": {
     "cell_type": "code",
     "output_collection_id": "eff545c9-f10b-4f5e-b78a-52267533623b"
    }
   },
   "outputs": [],
   "source": [
    "# Checking for missing values\n",
    "missing_values = df.isnull().sum()\n",
    "missing_values"
   ]
  },
  {
   "cell_type": "code",
   "execution_count": null,
   "id": "cc67091b-7117-4f9c-af54-d8a5fa4d7f0f",
   "metadata": {
    "ExecuteTime": {
     "end_time": "2023-07-07T21:15:25.941807+00:00",
     "start_time": "2023-07-07T21:15:23.183100+00:00"
    },
    "noteable": {
     "cell_type": "code",
     "output_collection_id": "c1c346b0-4f69-4b7e-891f-32458e6270b0"
    }
   },
   "outputs": [],
   "source": [
    "import matplotlib.pyplot as plt\n",
    "import seaborn as sns\n",
    "\n",
    "# Visualizing the distribution of numerical columns\n",
    "numerical_columns = ['Min progect size', 'Company Size', 'Scheduling', 'Quality', 'Cost']\n",
    "\n",
    "for column in numerical_columns:\n",
    "    plt.figure(figsize=(10, 5))\n",
    "    sns.histplot(df[column], kde=True)\n",
    "    plt.title(f'Distribution of {column}')\n",
    "    plt.show()"
   ]
  },
  {
   "cell_type": "code",
   "execution_count": null,
   "id": "a39bf3ab-976f-440e-b5b8-e15ca54d7a63",
   "metadata": {
    "ExecuteTime": {
     "end_time": "2023-07-07T21:20:45.818672+00:00",
     "start_time": "2023-07-07T21:20:45.513122+00:00"
    },
    "datalink": {
     "11dc536e-45d4-40d5-8f8f-23e1eb016922": {
      "applied_filters": [],
      "dataframe_info": {
       "default_index_used": true,
       "orig_num_cols": 7,
       "orig_num_rows": 5,
       "orig_size_bytes": 320,
       "truncated_num_cols": 7,
       "truncated_num_rows": 5,
       "truncated_size_bytes": 320,
       "truncated_string_columns": []
      },
      "display_id": "11dc536e-45d4-40d5-8f8f-23e1eb016922",
      "dx_settings": {
       "ALLOW_NOTEABLE_ATTRS": true,
       "COLUMN_SAMPLING_METHOD": "outer",
       "DB_LOCATION": ":memory:",
       "DEV_MODE": false,
       "DISPLAY_MAX_COLUMNS": 100,
       "DISPLAY_MAX_ROWS": 50000,
       "DISPLAY_MODE": "simple",
       "ENABLE_ASSIGNMENT": true,
       "ENABLE_DATALINK": true,
       "FLATTEN_COLUMN_VALUES": true,
       "FLATTEN_INDEX_VALUES": false,
       "GENERATE_DEX_METADATA": false,
       "HTML_TABLE_SCHEMA": false,
       "LOG_LEVEL": 30,
       "MAX_RENDER_SIZE_BYTES": 104857600,
       "MAX_STRING_LENGTH": 250,
       "NUM_PAST_SAMPLES_TRACKED": 3,
       "RANDOM_STATE": 12648430,
       "RESET_INDEX_VALUES": false,
       "ROW_SAMPLING_METHOD": "random",
       "SAMPLING_FACTOR": 0.1,
       "SAMPLING_METHOD": "random",
       "STRINGIFY_COLUMN_VALUES": true,
       "STRINGIFY_INDEX_VALUES": false
      },
      "sample_history": [],
      "sampling_time": "2023-07-07T21:20:45.662179",
      "user_variable_name": null,
      "variable_name": "unk_dataframe_bb25fef54fa140c383e5d78fcb35fd1b"
     }
    },
    "noteable": {
     "cell_type": "code",
     "output_collection_id": "e7c7b5be-f4ee-4655-8688-3631973e32f9"
    }
   },
   "outputs": [],
   "source": [
    "from sklearn.preprocessing import LabelEncoder, StandardScaler\n",
    "from scipy import stats\n",
    "\n",
    "# Encoding categorical variables\n",
    "le = LabelEncoder()\n",
    "df['City'] = le.fit_transform(df['City'])\n",
    "\n",
    "# Normalizing numerical variables\n",
    "scaler = StandardScaler()\n",
    "df[numerical_columns] = scaler.fit_transform(df[numerical_columns])\n",
    "\n",
    "# Removing outliers\n",
    "z_scores = stats.zscore(df[numerical_columns])\n",
    "abs_z_scores = np.abs(z_scores)\n",
    "filtered_entries = (abs_z_scores < 3).all(axis=1)\n",
    "df = df[filtered_entries]\n",
    "\n",
    "df.head()"
   ]
  }
 ],
 "metadata": {
  "kernelspec": {
   "display_name": "Python 3 (ipykernel)",
   "language": "python",
   "name": "python3"
  },
  "language_info": {
   "codemirror_mode": {
    "name": "ipython",
    "version": 3
   },
   "file_extension": ".py",
   "mimetype": "text/x-python",
   "name": "python",
   "nbconvert_exporter": "python",
   "pygments_lexer": "ipython3",
   "version": "3.10.11"
  },
  "noteable": {
   "last_transaction_id": "cd45c74f-f243-4f64-99cb-aaad1a7b0df6"
  },
  "noteable-chatgpt": {
   "create_notebook": {
    "openai_conversation_id": "db829b11-5132-5353-9785-ea21431df643",
    "openai_ephemeral_user_id": "5e36a7f1-f2bd-51ba-b5b8-dee2791a4433"
   }
  },
  "selected_hardware_size": "small"
 },
 "nbformat": 4,
 "nbformat_minor": 5
}
