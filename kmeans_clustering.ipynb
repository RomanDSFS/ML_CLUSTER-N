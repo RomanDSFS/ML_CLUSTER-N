{
 "cells": [
  {
   "cell_type": "code",
   "execution_count": null,
   "id": "487b9518-e7d4-43f1-8afc-7f47d470ca28",
   "metadata": {
    "jupyter": {
     "outputs_hidden": false,
     "source_hidden": false
    },
    "noteable": {
     "cell_type": "code"
    }
   },
   "outputs": [],
   "source": []
  },
  {
   "cell_type": "code",
   "execution_count": null,
   "id": "9c1d1488-1601-49c5-98f8-d4f8e60601d6",
   "metadata": {
    "ExecuteTime": {
     "end_time": "2023-07-08T16:56:23.489107+00:00",
     "start_time": "2023-07-08T16:56:21.448387+00:00"
    },
    "noteable": {
     "cell_type": "code",
     "output_collection_id": "8767e4f4-f481-4106-90ae-bd20d02b8d66"
    }
   },
   "outputs": [],
   "source": [
    "import pandas as pd\n",
    "from sklearn.cluster import KMeans\n",
    "from sklearn.metrics import silhouette_score\n",
    "import matplotlib.pyplot as plt\n",
    "\n",
    "# Load the data\n",
    "data = pd.read_csv('preprocessed_data.csv')\n",
    "\n",
    "# Prepare the data for clustering\n",
    "X = data.drop('Name', axis=1)\n",
    "\n",
    "# Determine the optimal number of clusters using the elbow method\n",
    "inertia = []\n",
    "silhouette = []\n",
    "K = range(2, 10)\n",
    "for k in K:\n",
    "    kmeans = KMeans(n_clusters=k, random_state=42)\n",
    "    kmeans.fit(X)\n",
    "    inertia.append(kmeans.inertia_)\n",
    "    silhouette.append(silhouette_score(X, kmeans.labels_))\n",
    "\n",
    "# Plot the elbow graph\n",
    "plt.figure(figsize=(16,8))\n",
    "plt.plot(K, inertia, 'bx-')\n",
    "plt.xlabel('k')\n",
    "plt.ylabel('Inertia')\n",
    "plt.title('The Elbow Method showing the optimal k')\n",
    "plt.show()\n",
    "\n",
    "# Plot the silhouette score graph\n",
    "plt.figure(figsize=(16,8))\n",
    "plt.plot(K, silhouette, 'bx-')\n",
    "plt.xlabel('k')\n",
    "plt.ylabel('Silhouette Score')\n",
    "plt.title('The Silhouette Method showing the optimal k')\n",
    "plt.show()"
   ]
  },
  {
   "cell_type": "code",
   "execution_count": null,
   "id": "5f6895cd-427d-44e6-b501-e05525d08807",
   "metadata": {
    "ExecuteTime": {
     "end_time": "2023-07-08T16:56:25.446639+00:00",
     "start_time": "2023-07-08T16:56:25.216964+00:00"
    },
    "datalink": {
     "8d36f4ca-f993-4d00-8774-7a539dceafa8": {
      "applied_filters": [],
      "dataframe_info": {
       "default_index_used": true,
       "orig_num_cols": 8,
       "orig_num_rows": 84,
       "orig_size_bytes": 5712,
       "truncated_num_cols": 8,
       "truncated_num_rows": 84,
       "truncated_size_bytes": 5712,
       "truncated_string_columns": []
      },
      "display_id": "8d36f4ca-f993-4d00-8774-7a539dceafa8",
      "dx_settings": {
       "ALLOW_NOTEABLE_ATTRS": true,
       "COLUMN_SAMPLING_METHOD": "outer",
       "DB_LOCATION": ":memory:",
       "DEV_MODE": false,
       "DISPLAY_MAX_COLUMNS": 100,
       "DISPLAY_MAX_ROWS": 50000,
       "DISPLAY_MODE": "simple",
       "ENABLE_ASSIGNMENT": true,
       "ENABLE_DATALINK": true,
       "FLATTEN_COLUMN_VALUES": true,
       "FLATTEN_INDEX_VALUES": false,
       "GENERATE_DEX_METADATA": false,
       "HTML_TABLE_SCHEMA": false,
       "LOG_LEVEL": 30,
       "MAX_RENDER_SIZE_BYTES": 104857600,
       "MAX_STRING_LENGTH": 250,
       "NUM_PAST_SAMPLES_TRACKED": 3,
       "RANDOM_STATE": 12648430,
       "RESET_INDEX_VALUES": false,
       "ROW_SAMPLING_METHOD": "random",
       "SAMPLING_FACTOR": 0.1,
       "SAMPLING_METHOD": "random",
       "STRINGIFY_COLUMN_VALUES": true,
       "STRINGIFY_INDEX_VALUES": false
      },
      "sample_history": [],
      "sampling_time": "2023-07-08T16:56:25.287533",
      "user_variable_name": "data",
      "variable_name": "data"
     },
     "a4a4332e-0abc-4828-9bec-3a62977cc5dd": {
      "applied_filters": [],
      "dataframe_info": {
       "default_index_used": true,
       "orig_num_cols": 8,
       "orig_num_rows": 84,
       "orig_size_bytes": 5712,
       "truncated_num_cols": 8,
       "truncated_num_rows": 84,
       "truncated_size_bytes": 5712,
       "truncated_string_columns": []
      },
      "display_id": "a4a4332e-0abc-4828-9bec-3a62977cc5dd",
      "dx_settings": {
       "ALLOW_NOTEABLE_ATTRS": true,
       "COLUMN_SAMPLING_METHOD": "outer",
       "DB_LOCATION": ":memory:",
       "DEV_MODE": false,
       "DISPLAY_MAX_COLUMNS": 100,
       "DISPLAY_MAX_ROWS": 50000,
       "DISPLAY_MODE": "simple",
       "ENABLE_ASSIGNMENT": true,
       "ENABLE_DATALINK": true,
       "FLATTEN_COLUMN_VALUES": true,
       "FLATTEN_INDEX_VALUES": false,
       "GENERATE_DEX_METADATA": false,
       "HTML_TABLE_SCHEMA": false,
       "LOG_LEVEL": 30,
       "MAX_RENDER_SIZE_BYTES": 104857600,
       "MAX_STRING_LENGTH": 250,
       "NUM_PAST_SAMPLES_TRACKED": 3,
       "RANDOM_STATE": 12648430,
       "RESET_INDEX_VALUES": false,
       "ROW_SAMPLING_METHOD": "random",
       "SAMPLING_FACTOR": 0.1,
       "SAMPLING_METHOD": "random",
       "STRINGIFY_COLUMN_VALUES": true,
       "STRINGIFY_INDEX_VALUES": false
      },
      "sample_history": [],
      "sampling_time": "2023-07-08T16:32:37.057939",
      "user_variable_name": "data",
      "variable_name": "data"
     }
    },
    "noteable": {
     "cell_type": "code",
     "output_collection_id": "d44b12eb-464b-49ce-8768-5c3faffcc877"
    }
   },
   "outputs": [],
   "source": [
    "# Train the KMeans model with the optimal number of clusters\n",
    "kmeans = KMeans(n_clusters=4, random_state=42)\n",
    "kmeans.fit(X)\n",
    "\n",
    "# Apply the model to the data\n",
    "labels = kmeans.predict(X)\n",
    "\n",
    "# Add the cluster labels to the original data\n",
    "data['Cluster'] = labels\n",
    "\n",
    "# Display the data with the cluster labels\n",
    "data"
   ]
  },
  {
   "cell_type": "code",
   "execution_count": null,
   "id": "83b6cfce-91b8-4cb6-9353-843eec80bf35",
   "metadata": {
    "ExecuteTime": {
     "end_time": "2023-07-08T16:56:38.997883+00:00",
     "start_time": "2023-07-08T16:56:25.454836+00:00"
    },
    "datalink": {
     "3fe15fe5-0a4c-4844-bb0e-7dc275991210": {
      "applied_filters": [],
      "dataframe_info": {
       "default_index_used": false,
       "orig_num_cols": 6,
       "orig_num_rows": 4,
       "orig_size_bytes": 224,
       "truncated_num_cols": 6,
       "truncated_num_rows": 4,
       "truncated_size_bytes": 224,
       "truncated_string_columns": []
      },
      "display_id": "3fe15fe5-0a4c-4844-bb0e-7dc275991210",
      "dx_settings": {
       "ALLOW_NOTEABLE_ATTRS": true,
       "COLUMN_SAMPLING_METHOD": "outer",
       "DB_LOCATION": ":memory:",
       "DEV_MODE": false,
       "DISPLAY_MAX_COLUMNS": 100,
       "DISPLAY_MAX_ROWS": 50000,
       "DISPLAY_MODE": "simple",
       "ENABLE_ASSIGNMENT": true,
       "ENABLE_DATALINK": true,
       "FLATTEN_COLUMN_VALUES": true,
       "FLATTEN_INDEX_VALUES": false,
       "GENERATE_DEX_METADATA": false,
       "HTML_TABLE_SCHEMA": false,
       "LOG_LEVEL": 30,
       "MAX_RENDER_SIZE_BYTES": 104857600,
       "MAX_STRING_LENGTH": 250,
       "NUM_PAST_SAMPLES_TRACKED": 3,
       "RANDOM_STATE": 12648430,
       "RESET_INDEX_VALUES": false,
       "ROW_SAMPLING_METHOD": "random",
       "SAMPLING_FACTOR": 0.1,
       "SAMPLING_METHOD": "random",
       "STRINGIFY_COLUMN_VALUES": true,
       "STRINGIFY_INDEX_VALUES": false
      },
      "sample_history": [],
      "sampling_time": "2023-07-08T16:56:33.668126",
      "user_variable_name": "cluster_characteristics",
      "variable_name": "cluster_characteristics"
     },
     "c87b86a5-55a5-4521-8836-94bf577fc56b": {
      "applied_filters": [],
      "dataframe_info": {
       "default_index_used": false,
       "orig_num_cols": 6,
       "orig_num_rows": 4,
       "orig_size_bytes": 224,
       "truncated_num_cols": 6,
       "truncated_num_rows": 4,
       "truncated_size_bytes": 224,
       "truncated_string_columns": []
      },
      "display_id": "c87b86a5-55a5-4521-8836-94bf577fc56b",
      "dx_settings": {
       "ALLOW_NOTEABLE_ATTRS": true,
       "COLUMN_SAMPLING_METHOD": "outer",
       "DB_LOCATION": ":memory:",
       "DEV_MODE": false,
       "DISPLAY_MAX_COLUMNS": 100,
       "DISPLAY_MAX_ROWS": 50000,
       "DISPLAY_MODE": "simple",
       "ENABLE_ASSIGNMENT": true,
       "ENABLE_DATALINK": true,
       "FLATTEN_COLUMN_VALUES": true,
       "FLATTEN_INDEX_VALUES": false,
       "GENERATE_DEX_METADATA": false,
       "HTML_TABLE_SCHEMA": false,
       "LOG_LEVEL": 30,
       "MAX_RENDER_SIZE_BYTES": 104857600,
       "MAX_STRING_LENGTH": 250,
       "NUM_PAST_SAMPLES_TRACKED": 3,
       "RANDOM_STATE": 12648430,
       "RESET_INDEX_VALUES": false,
       "ROW_SAMPLING_METHOD": "random",
       "SAMPLING_FACTOR": 0.1,
       "SAMPLING_METHOD": "random",
       "STRINGIFY_COLUMN_VALUES": true,
       "STRINGIFY_INDEX_VALUES": false
      },
      "sample_history": [],
      "sampling_time": "2023-07-08T16:36:36.960430",
      "user_variable_name": "cluster_characteristics",
      "variable_name": "cluster_characteristics"
     }
    },
    "noteable": {
     "cell_type": "code",
     "output_collection_id": "a0ac6a16-ed21-47da-aa14-b73ec48d506c"
    }
   },
   "outputs": [],
   "source": [
    "import seaborn as sns\n",
    "\n",
    "# Visualize the clusters\n",
    "sns.pairplot(data, hue='Cluster', palette='Dark2', diag_kind='kde')\n",
    "\n",
    "# Interpret the clusters\n",
    "cluster_characteristics = data.groupby('Cluster').mean()\n",
    "cluster_characteristics"
   ]
  },
  {
   "cell_type": "code",
   "execution_count": null,
   "id": "dd71299f-6a7a-49be-a78d-e9ec7d54ec99",
   "metadata": {
    "ExecuteTime": {
     "end_time": "2023-07-08T16:56:39.376563+00:00",
     "start_time": "2023-07-08T16:56:39.217682+00:00"
    },
    "noteable": {
     "cell_type": "code",
     "output_collection_id": "628b20b0-04f7-4be5-8dca-7a5949bda794"
    }
   },
   "outputs": [],
   "source": [
    "# Save the data with cluster labels to a new CSV file\n",
    "data.to_csv('preprocessed_data.csv', index=False)"
   ]
  }
 ],
 "metadata": {
  "kernelspec": {
   "display_name": "Python 3 (ipykernel)",
   "language": "python",
   "name": "python3"
  },
  "language_info": {
   "codemirror_mode": {
    "name": "ipython",
    "version": 3
   },
   "file_extension": ".py",
   "mimetype": "text/x-python",
   "name": "python",
   "nbconvert_exporter": "python",
   "pygments_lexer": "ipython3",
   "version": "3.10.11"
  },
  "noteable": {
   "last_transaction_id": "0a13bec4-afb1-4f97-9268-028579520508"
  },
  "noteable-chatgpt": {
   "create_notebook": {
    "openai_conversation_id": "db829b11-5132-5353-9785-ea21431df643",
    "openai_ephemeral_user_id": "5e36a7f1-f2bd-51ba-b5b8-dee2791a4433"
   }
  },
  "selected_hardware_size": "small"
 },
 "nbformat": 4,
 "nbformat_minor": 5
}
