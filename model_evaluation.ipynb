{
 "cells": [
  {
   "cell_type": "code",
   "execution_count": null,
   "id": "2e9b1c9a-e3bc-46ee-880b-cbe5b1f2a504",
   "metadata": {
    "jupyter": {
     "outputs_hidden": false,
     "source_hidden": false
    },
    "noteable": {
     "cell_type": "code"
    }
   },
   "outputs": [],
   "source": []
  },
  {
   "cell_type": "code",
   "execution_count": null,
   "id": "1eecd196-8e20-494c-a6ff-7c0b276e1c69",
   "metadata": {
    "jupyter": {
     "outputs_hidden": false,
     "source_hidden": false
    },
    "noteable": {
     "cell_type": "code"
    }
   },
   "outputs": [],
   "source": []
  },
  {
   "cell_type": "code",
   "execution_count": null,
   "id": "26077737-8479-444c-bf9a-3217b7c4e64a",
   "metadata": {
    "ExecuteTime": {
     "end_time": "2023-07-08T17:05:06.597850+00:00",
     "start_time": "2023-07-08T17:05:05.285382+00:00"
    },
    "noteable": {
     "cell_type": "code",
     "output_collection_id": "86f5711e-680a-4bc9-898d-7d9796651890"
    }
   },
   "outputs": [],
   "source": [
    "import pandas as pd\n",
    "from sklearn.metrics import silhouette_score, davies_bouldin_score\n",
    "import seaborn as sns\n",
    "import matplotlib.pyplot as plt\n",
    "from sklearn.decomposition import PCA\n",
    "\n",
    "# Load the data with cluster labels\n",
    "data = pd.read_csv('preprocessed_data.csv')\n",
    "\n",
    "# Prepare the data for evaluation\n",
    "X = data.drop(['Name', 'Cluster'], axis=1)\n",
    "labels = data['Cluster']\n",
    "\n",
    "# Evaluate the quality of clustering\n",
    "silhouette = silhouette_score(X, labels)\n",
    "davies_bouldin = davies_bouldin_score(X, labels)\n",
    "\n",
    "print(f'Silhouette Score: {silhouette}')\n",
    "print(f'Davies-Bouldin Score: {davies_bouldin}')\n",
    "\n",
    "# Visualize the clusters\n",
    "pca = PCA(n_components=2)\n",
    "X_pca = pca.fit_transform(X)\n",
    "plt.figure(figsize=(10, 7))\n",
    "plt.scatter(X_pca[:, 0], X_pca[:, 1], c=labels, cmap='viridis')\n",
    "plt.title('Clusters visualization')\n",
    "plt.show()"
   ]
  }
 ],
 "metadata": {
  "kernelspec": {
   "display_name": "Python 3 (ipykernel)",
   "language": "python",
   "name": "python3"
  },
  "language_info": {
   "codemirror_mode": {
    "name": "ipython",
    "version": 3
   },
   "file_extension": ".py",
   "mimetype": "text/x-python",
   "name": "python",
   "nbconvert_exporter": "python",
   "pygments_lexer": "ipython3",
   "version": "3.10.11"
  },
  "noteable": {
   "last_transaction_id": "c353f239-5a02-4036-801c-4ecf8e44ae1b"
  },
  "noteable-chatgpt": {
   "create_notebook": {
    "openai_conversation_id": "db829b11-5132-5353-9785-ea21431df643",
    "openai_ephemeral_user_id": "5e36a7f1-f2bd-51ba-b5b8-dee2791a4433"
   }
  },
  "selected_hardware_size": "small"
 },
 "nbformat": 4,
 "nbformat_minor": 5
}
