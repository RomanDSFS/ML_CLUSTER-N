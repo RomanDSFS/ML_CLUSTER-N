{
 "cells": [
  {
   "cell_type": "code",
   "execution_count": null,
   "id": "f4a2507c-e27e-4fd4-9a7e-ff06fd6604c6",
   "metadata": {
    "ExecuteTime": {
     "end_time": "2023-07-07T17:34:01.618408+00:00",
     "start_time": "2023-07-07T17:34:01.374178+00:00"
    },
    "datalink": {
     "00e1be4a-ef76-4a53-8b5c-090bc97ff73a": {
      "applied_filters": [],
      "dataframe_info": {
       "default_index_used": true,
       "orig_num_cols": 14,
       "orig_num_rows": 5,
       "orig_size_bytes": 600,
       "truncated_num_cols": 14,
       "truncated_num_rows": 5,
       "truncated_size_bytes": 600,
       "truncated_string_columns": [
        "Clients summary"
       ]
      },
      "display_id": "00e1be4a-ef76-4a53-8b5c-090bc97ff73a",
      "dx_settings": {
       "ALLOW_NOTEABLE_ATTRS": true,
       "COLUMN_SAMPLING_METHOD": "outer",
       "DB_LOCATION": ":memory:",
       "DEV_MODE": false,
       "DISPLAY_MAX_COLUMNS": 100,
       "DISPLAY_MAX_ROWS": 50000,
       "DISPLAY_MODE": "simple",
       "ENABLE_ASSIGNMENT": true,
       "ENABLE_DATALINK": true,
       "FLATTEN_COLUMN_VALUES": true,
       "FLATTEN_INDEX_VALUES": false,
       "GENERATE_DEX_METADATA": false,
       "HTML_TABLE_SCHEMA": false,
       "LOG_LEVEL": 30,
       "MAX_RENDER_SIZE_BYTES": 104857600,
       "MAX_STRING_LENGTH": 250,
       "NUM_PAST_SAMPLES_TRACKED": 3,
       "RANDOM_STATE": 12648430,
       "RESET_INDEX_VALUES": false,
       "ROW_SAMPLING_METHOD": "random",
       "SAMPLING_FACTOR": 0.1,
       "SAMPLING_METHOD": "random",
       "STRINGIFY_COLUMN_VALUES": true,
       "STRINGIFY_INDEX_VALUES": false
      },
      "sample_history": [],
      "sampling_time": "2023-07-07T17:03:53.024746",
      "user_variable_name": null,
      "variable_name": "unk_dataframe_1b8726ecad274a689ccac24833aa22d5"
     },
     "46c9fc94-5c89-457e-a6df-98dc7a10fedc": {
      "applied_filters": [],
      "dataframe_info": {
       "default_index_used": true,
       "orig_num_cols": 14,
       "orig_num_rows": 5,
       "orig_size_bytes": 600,
       "truncated_num_cols": 14,
       "truncated_num_rows": 5,
       "truncated_size_bytes": 600,
       "truncated_string_columns": [
        "Clients summary"
       ]
      },
      "display_id": "46c9fc94-5c89-457e-a6df-98dc7a10fedc",
      "dx_settings": {
       "ALLOW_NOTEABLE_ATTRS": true,
       "COLUMN_SAMPLING_METHOD": "outer",
       "DB_LOCATION": ":memory:",
       "DEV_MODE": false,
       "DISPLAY_MAX_COLUMNS": 100,
       "DISPLAY_MAX_ROWS": 50000,
       "DISPLAY_MODE": "simple",
       "ENABLE_ASSIGNMENT": true,
       "ENABLE_DATALINK": true,
       "FLATTEN_COLUMN_VALUES": true,
       "FLATTEN_INDEX_VALUES": false,
       "GENERATE_DEX_METADATA": false,
       "HTML_TABLE_SCHEMA": false,
       "LOG_LEVEL": 30,
       "MAX_RENDER_SIZE_BYTES": 104857600,
       "MAX_STRING_LENGTH": 250,
       "NUM_PAST_SAMPLES_TRACKED": 3,
       "RANDOM_STATE": 12648430,
       "RESET_INDEX_VALUES": false,
       "ROW_SAMPLING_METHOD": "random",
       "SAMPLING_FACTOR": 0.1,
       "SAMPLING_METHOD": "random",
       "STRINGIFY_COLUMN_VALUES": true,
       "STRINGIFY_INDEX_VALUES": false
      },
      "sample_history": [],
      "sampling_time": "2023-07-07T16:05:54.030673",
      "user_variable_name": null,
      "variable_name": "unk_dataframe_dd5da839f6ba437592506e16302a4ac4"
     },
     "597dd718-b755-4700-8319-435c1ac84cb9": {
      "applied_filters": [],
      "dataframe_info": {
       "default_index_used": true,
       "orig_num_cols": 14,
       "orig_num_rows": 5,
       "orig_size_bytes": 600,
       "truncated_num_cols": 14,
       "truncated_num_rows": 5,
       "truncated_size_bytes": 600,
       "truncated_string_columns": [
        "Clients summary"
       ]
      },
      "display_id": "597dd718-b755-4700-8319-435c1ac84cb9",
      "dx_settings": {
       "ALLOW_NOTEABLE_ATTRS": true,
       "COLUMN_SAMPLING_METHOD": "outer",
       "DB_LOCATION": ":memory:",
       "DEV_MODE": false,
       "DISPLAY_MAX_COLUMNS": 100,
       "DISPLAY_MAX_ROWS": 50000,
       "DISPLAY_MODE": "simple",
       "ENABLE_ASSIGNMENT": true,
       "ENABLE_DATALINK": true,
       "FLATTEN_COLUMN_VALUES": true,
       "FLATTEN_INDEX_VALUES": false,
       "GENERATE_DEX_METADATA": false,
       "HTML_TABLE_SCHEMA": false,
       "LOG_LEVEL": 30,
       "MAX_RENDER_SIZE_BYTES": 104857600,
       "MAX_STRING_LENGTH": 250,
       "NUM_PAST_SAMPLES_TRACKED": 3,
       "RANDOM_STATE": 12648430,
       "RESET_INDEX_VALUES": false,
       "ROW_SAMPLING_METHOD": "random",
       "SAMPLING_FACTOR": 0.1,
       "SAMPLING_METHOD": "random",
       "STRINGIFY_COLUMN_VALUES": true,
       "STRINGIFY_INDEX_VALUES": false
      },
      "sample_history": [],
      "sampling_time": "2023-07-07T17:34:01.455092",
      "user_variable_name": null,
      "variable_name": "unk_dataframe_f532cc7386ac4f0fa277f49ee2b8c4e8"
     },
     "696a1b56-62e1-4174-89c1-190ee1587b91": {
      "applied_filters": [],
      "dataframe_info": {
       "default_index_used": true,
       "orig_num_cols": 14,
       "orig_num_rows": 5,
       "orig_size_bytes": 600,
       "truncated_num_cols": 14,
       "truncated_num_rows": 5,
       "truncated_size_bytes": 600,
       "truncated_string_columns": [
        "Clients summary"
       ]
      },
      "display_id": "696a1b56-62e1-4174-89c1-190ee1587b91",
      "dx_settings": {
       "ALLOW_NOTEABLE_ATTRS": true,
       "COLUMN_SAMPLING_METHOD": "outer",
       "DB_LOCATION": ":memory:",
       "DEV_MODE": false,
       "DISPLAY_MAX_COLUMNS": 100,
       "DISPLAY_MAX_ROWS": 50000,
       "DISPLAY_MODE": "simple",
       "ENABLE_ASSIGNMENT": true,
       "ENABLE_DATALINK": true,
       "FLATTEN_COLUMN_VALUES": true,
       "FLATTEN_INDEX_VALUES": false,
       "GENERATE_DEX_METADATA": false,
       "HTML_TABLE_SCHEMA": false,
       "LOG_LEVEL": 30,
       "MAX_RENDER_SIZE_BYTES": 104857600,
       "MAX_STRING_LENGTH": 250,
       "NUM_PAST_SAMPLES_TRACKED": 3,
       "RANDOM_STATE": 12648430,
       "RESET_INDEX_VALUES": false,
       "ROW_SAMPLING_METHOD": "random",
       "SAMPLING_FACTOR": 0.1,
       "SAMPLING_METHOD": "random",
       "STRINGIFY_COLUMN_VALUES": true,
       "STRINGIFY_INDEX_VALUES": false
      },
      "sample_history": [],
      "sampling_time": "2023-07-07T17:03:16.416272",
      "user_variable_name": null,
      "variable_name": "unk_dataframe_0bcfdb2c92b743cdb0273ced07de7d2f"
     },
     "ea954307-6449-4d5d-ab73-5780cd802c5b": {
      "applied_filters": [],
      "dataframe_info": {
       "default_index_used": true,
       "orig_num_cols": 14,
       "orig_num_rows": 5,
       "orig_size_bytes": 600,
       "truncated_num_cols": 14,
       "truncated_num_rows": 5,
       "truncated_size_bytes": 600,
       "truncated_string_columns": [
        "Clients summary"
       ]
      },
      "display_id": "ea954307-6449-4d5d-ab73-5780cd802c5b",
      "dx_settings": {
       "ALLOW_NOTEABLE_ATTRS": true,
       "COLUMN_SAMPLING_METHOD": "outer",
       "DB_LOCATION": ":memory:",
       "DEV_MODE": false,
       "DISPLAY_MAX_COLUMNS": 100,
       "DISPLAY_MAX_ROWS": 50000,
       "DISPLAY_MODE": "simple",
       "ENABLE_ASSIGNMENT": true,
       "ENABLE_DATALINK": true,
       "FLATTEN_COLUMN_VALUES": true,
       "FLATTEN_INDEX_VALUES": false,
       "GENERATE_DEX_METADATA": false,
       "HTML_TABLE_SCHEMA": false,
       "LOG_LEVEL": 30,
       "MAX_RENDER_SIZE_BYTES": 104857600,
       "MAX_STRING_LENGTH": 250,
       "NUM_PAST_SAMPLES_TRACKED": 3,
       "RANDOM_STATE": 12648430,
       "RESET_INDEX_VALUES": false,
       "ROW_SAMPLING_METHOD": "random",
       "SAMPLING_FACTOR": 0.1,
       "SAMPLING_METHOD": "random",
       "STRINGIFY_COLUMN_VALUES": true,
       "STRINGIFY_INDEX_VALUES": false
      },
      "sample_history": [],
      "sampling_time": "2023-07-07T17:01:33.388887",
      "user_variable_name": null,
      "variable_name": "unk_dataframe_8f30eb3604c94618b0ba0ae68657c9fd"
     }
    },
    "noteable": {
     "cell_type": "code",
     "output_collection_id": "7dc48af5-139f-4920-9b7e-f3e61ab07f74"
    },
    "tags": [
     "show_line_numbers"
    ]
   },
   "outputs": [],
   "source": [
    "import pandas as pd\n",
    "df = pd.read_csv('Companies_2.csv')\n",
    "df.head()"
   ]
  },
  {
   "cell_type": "code",
   "execution_count": null,
   "id": "6ae6fc05-7b5d-4b69-afbd-3f8a90d01818",
   "metadata": {
    "ExecuteTime": {
     "end_time": "2023-07-07T17:34:01.867594+00:00",
     "start_time": "2023-07-07T17:34:01.627698+00:00"
    },
    "datalink": {
     "10f001fa-04ef-4114-938e-d539aab0cf3e": {
      "applied_filters": [],
      "dataframe_info": {
       "default_index_used": true,
       "orig_num_cols": 14,
       "orig_num_rows": 5,
       "orig_size_bytes": 600,
       "truncated_num_cols": 14,
       "truncated_num_rows": 5,
       "truncated_size_bytes": 600,
       "truncated_string_columns": [
        "Clients summary"
       ]
      },
      "display_id": "10f001fa-04ef-4114-938e-d539aab0cf3e",
      "dx_settings": {
       "ALLOW_NOTEABLE_ATTRS": true,
       "COLUMN_SAMPLING_METHOD": "outer",
       "DB_LOCATION": ":memory:",
       "DEV_MODE": false,
       "DISPLAY_MAX_COLUMNS": 100,
       "DISPLAY_MAX_ROWS": 50000,
       "DISPLAY_MODE": "simple",
       "ENABLE_ASSIGNMENT": true,
       "ENABLE_DATALINK": true,
       "FLATTEN_COLUMN_VALUES": true,
       "FLATTEN_INDEX_VALUES": false,
       "GENERATE_DEX_METADATA": false,
       "HTML_TABLE_SCHEMA": false,
       "LOG_LEVEL": 30,
       "MAX_RENDER_SIZE_BYTES": 104857600,
       "MAX_STRING_LENGTH": 250,
       "NUM_PAST_SAMPLES_TRACKED": 3,
       "RANDOM_STATE": 12648430,
       "RESET_INDEX_VALUES": false,
       "ROW_SAMPLING_METHOD": "random",
       "SAMPLING_FACTOR": 0.1,
       "SAMPLING_METHOD": "random",
       "STRINGIFY_COLUMN_VALUES": true,
       "STRINGIFY_INDEX_VALUES": false
      },
      "sample_history": [],
      "sampling_time": "2023-07-07T17:03:16.680790",
      "user_variable_name": null,
      "variable_name": "unk_dataframe_8148a8a4d8bc43dfbebcc5d0b6601929"
     },
     "2a38dc50-fae7-4438-b456-a6dbd00b7a4e": {
      "applied_filters": [],
      "dataframe_info": {
       "default_index_used": true,
       "orig_num_cols": 14,
       "orig_num_rows": 5,
       "orig_size_bytes": 600,
       "truncated_num_cols": 14,
       "truncated_num_rows": 5,
       "truncated_size_bytes": 600,
       "truncated_string_columns": [
        "Clients summary"
       ]
      },
      "display_id": "2a38dc50-fae7-4438-b456-a6dbd00b7a4e",
      "dx_settings": {
       "ALLOW_NOTEABLE_ATTRS": true,
       "COLUMN_SAMPLING_METHOD": "outer",
       "DB_LOCATION": ":memory:",
       "DEV_MODE": false,
       "DISPLAY_MAX_COLUMNS": 100,
       "DISPLAY_MAX_ROWS": 50000,
       "DISPLAY_MODE": "simple",
       "ENABLE_ASSIGNMENT": true,
       "ENABLE_DATALINK": true,
       "FLATTEN_COLUMN_VALUES": true,
       "FLATTEN_INDEX_VALUES": false,
       "GENERATE_DEX_METADATA": false,
       "HTML_TABLE_SCHEMA": false,
       "LOG_LEVEL": 30,
       "MAX_RENDER_SIZE_BYTES": 104857600,
       "MAX_STRING_LENGTH": 250,
       "NUM_PAST_SAMPLES_TRACKED": 3,
       "RANDOM_STATE": 12648430,
       "RESET_INDEX_VALUES": false,
       "ROW_SAMPLING_METHOD": "random",
       "SAMPLING_FACTOR": 0.1,
       "SAMPLING_METHOD": "random",
       "STRINGIFY_COLUMN_VALUES": true,
       "STRINGIFY_INDEX_VALUES": false
      },
      "sample_history": [],
      "sampling_time": "2023-07-07T17:34:01.708626",
      "user_variable_name": null,
      "variable_name": "unk_dataframe_cb51d2baab6a4a7ba49385302c4bb01f"
     },
     "4d39b6ef-0c7a-406d-a554-38675acba2d2": {
      "applied_filters": [],
      "dataframe_info": {
       "default_index_used": true,
       "orig_num_cols": 14,
       "orig_num_rows": 5,
       "orig_size_bytes": 600,
       "truncated_num_cols": 14,
       "truncated_num_rows": 5,
       "truncated_size_bytes": 600,
       "truncated_string_columns": [
        "Clients summary"
       ]
      },
      "display_id": "4d39b6ef-0c7a-406d-a554-38675acba2d2",
      "dx_settings": {
       "ALLOW_NOTEABLE_ATTRS": true,
       "COLUMN_SAMPLING_METHOD": "outer",
       "DB_LOCATION": ":memory:",
       "DEV_MODE": false,
       "DISPLAY_MAX_COLUMNS": 100,
       "DISPLAY_MAX_ROWS": 50000,
       "DISPLAY_MODE": "simple",
       "ENABLE_ASSIGNMENT": true,
       "ENABLE_DATALINK": true,
       "FLATTEN_COLUMN_VALUES": true,
       "FLATTEN_INDEX_VALUES": false,
       "GENERATE_DEX_METADATA": false,
       "HTML_TABLE_SCHEMA": false,
       "LOG_LEVEL": 30,
       "MAX_RENDER_SIZE_BYTES": 104857600,
       "MAX_STRING_LENGTH": 250,
       "NUM_PAST_SAMPLES_TRACKED": 3,
       "RANDOM_STATE": 12648430,
       "RESET_INDEX_VALUES": false,
       "ROW_SAMPLING_METHOD": "random",
       "SAMPLING_FACTOR": 0.1,
       "SAMPLING_METHOD": "random",
       "STRINGIFY_COLUMN_VALUES": true,
       "STRINGIFY_INDEX_VALUES": false
      },
      "sample_history": [],
      "sampling_time": "2023-07-07T17:01:33.634282",
      "user_variable_name": null,
      "variable_name": "unk_dataframe_b3adcea756ae47a5b3eec0658fa30345"
     },
     "77a49ec3-eef9-42ce-a179-4420f083b5f2": {
      "applied_filters": [],
      "dataframe_info": {
       "default_index_used": true,
       "orig_num_cols": 14,
       "orig_num_rows": 5,
       "orig_size_bytes": 600,
       "truncated_num_cols": 14,
       "truncated_num_rows": 5,
       "truncated_size_bytes": 600,
       "truncated_string_columns": [
        "Clients summary"
       ]
      },
      "display_id": "77a49ec3-eef9-42ce-a179-4420f083b5f2",
      "dx_settings": {
       "ALLOW_NOTEABLE_ATTRS": true,
       "COLUMN_SAMPLING_METHOD": "outer",
       "DB_LOCATION": ":memory:",
       "DEV_MODE": false,
       "DISPLAY_MAX_COLUMNS": 100,
       "DISPLAY_MAX_ROWS": 50000,
       "DISPLAY_MODE": "simple",
       "ENABLE_ASSIGNMENT": true,
       "ENABLE_DATALINK": true,
       "FLATTEN_COLUMN_VALUES": true,
       "FLATTEN_INDEX_VALUES": false,
       "GENERATE_DEX_METADATA": false,
       "HTML_TABLE_SCHEMA": false,
       "LOG_LEVEL": 30,
       "MAX_RENDER_SIZE_BYTES": 104857600,
       "MAX_STRING_LENGTH": 250,
       "NUM_PAST_SAMPLES_TRACKED": 3,
       "RANDOM_STATE": 12648430,
       "RESET_INDEX_VALUES": false,
       "ROW_SAMPLING_METHOD": "random",
       "SAMPLING_FACTOR": 0.1,
       "SAMPLING_METHOD": "random",
       "STRINGIFY_COLUMN_VALUES": true,
       "STRINGIFY_INDEX_VALUES": false
      },
      "sample_history": [],
      "sampling_time": "2023-07-07T17:03:58.306111",
      "user_variable_name": null,
      "variable_name": "unk_dataframe_4b0e263819524fb08d286267f767188a"
     },
     "fcc322dd-c83a-4abf-9391-6b56b28cc63b": {
      "applied_filters": [],
      "dataframe_info": {
       "default_index_used": true,
       "orig_num_cols": 14,
       "orig_num_rows": 5,
       "orig_size_bytes": 600,
       "truncated_num_cols": 14,
       "truncated_num_rows": 5,
       "truncated_size_bytes": 600,
       "truncated_string_columns": [
        "Clients summary"
       ]
      },
      "display_id": "fcc322dd-c83a-4abf-9391-6b56b28cc63b",
      "dx_settings": {
       "ALLOW_NOTEABLE_ATTRS": true,
       "COLUMN_SAMPLING_METHOD": "outer",
       "DB_LOCATION": ":memory:",
       "DEV_MODE": false,
       "DISPLAY_MAX_COLUMNS": 100,
       "DISPLAY_MAX_ROWS": 50000,
       "DISPLAY_MODE": "simple",
       "ENABLE_ASSIGNMENT": true,
       "ENABLE_DATALINK": true,
       "FLATTEN_COLUMN_VALUES": true,
       "FLATTEN_INDEX_VALUES": false,
       "GENERATE_DEX_METADATA": false,
       "HTML_TABLE_SCHEMA": false,
       "LOG_LEVEL": 30,
       "MAX_RENDER_SIZE_BYTES": 104857600,
       "MAX_STRING_LENGTH": 250,
       "NUM_PAST_SAMPLES_TRACKED": 3,
       "RANDOM_STATE": 12648430,
       "RESET_INDEX_VALUES": false,
       "ROW_SAMPLING_METHOD": "random",
       "SAMPLING_FACTOR": 0.1,
       "SAMPLING_METHOD": "random",
       "STRINGIFY_COLUMN_VALUES": true,
       "STRINGIFY_INDEX_VALUES": false
      },
      "sample_history": [],
      "sampling_time": "2023-07-07T16:17:58.507888",
      "user_variable_name": null,
      "variable_name": "unk_dataframe_eeded3fa2d5e4b4caafa9d2646ae1ac9"
     }
    },
    "noteable": {
     "cell_type": "code",
     "output_collection_id": "6576bc49-a541-46b3-9a1f-a7c5f7fcb63f"
    }
   },
   "outputs": [],
   "source": [
    "df['City'] = df['City'].str.replace(', Ukraine', '')\n",
    "df['City'] = df['City'].str.strip()\n",
    "df.head()"
   ]
  },
  {
   "cell_type": "code",
   "execution_count": null,
   "id": "0fe55266-9e5e-46f8-885d-188a016cd618",
   "metadata": {
    "ExecuteTime": {
     "end_time": "2023-07-07T17:34:03.244731+00:00",
     "start_time": "2023-07-07T17:34:01.880415+00:00"
    },
    "datalink": {
     "25a4b46b-84ba-4bcd-86de-afddb6d04089": {
      "applied_filters": [],
      "dataframe_info": {
       "default_index_used": true,
       "orig_num_cols": 14,
       "orig_num_rows": 5,
       "orig_size_bytes": 600,
       "truncated_num_cols": 14,
       "truncated_num_rows": 5,
       "truncated_size_bytes": 600,
       "truncated_string_columns": [
        "Clients summary"
       ]
      },
      "display_id": "25a4b46b-84ba-4bcd-86de-afddb6d04089",
      "dx_settings": {
       "ALLOW_NOTEABLE_ATTRS": true,
       "COLUMN_SAMPLING_METHOD": "outer",
       "DB_LOCATION": ":memory:",
       "DEV_MODE": false,
       "DISPLAY_MAX_COLUMNS": 100,
       "DISPLAY_MAX_ROWS": 50000,
       "DISPLAY_MODE": "simple",
       "ENABLE_ASSIGNMENT": true,
       "ENABLE_DATALINK": true,
       "FLATTEN_COLUMN_VALUES": true,
       "FLATTEN_INDEX_VALUES": false,
       "GENERATE_DEX_METADATA": false,
       "HTML_TABLE_SCHEMA": false,
       "LOG_LEVEL": 30,
       "MAX_RENDER_SIZE_BYTES": 104857600,
       "MAX_STRING_LENGTH": 250,
       "NUM_PAST_SAMPLES_TRACKED": 3,
       "RANDOM_STATE": 12648430,
       "RESET_INDEX_VALUES": false,
       "ROW_SAMPLING_METHOD": "random",
       "SAMPLING_FACTOR": 0.1,
       "SAMPLING_METHOD": "random",
       "STRINGIFY_COLUMN_VALUES": true,
       "STRINGIFY_INDEX_VALUES": false
      },
      "sample_history": [],
      "sampling_time": "2023-07-07T17:03:16.924928",
      "user_variable_name": null,
      "variable_name": "unk_dataframe_cdac3dd1d395407c9f2481041eee2626"
     },
     "56fc17f4-0191-4080-9f14-7f4220445e18": {
      "applied_filters": [],
      "dataframe_info": {
       "default_index_used": true,
       "orig_num_cols": 14,
       "orig_num_rows": 5,
       "orig_size_bytes": 600,
       "truncated_num_cols": 14,
       "truncated_num_rows": 5,
       "truncated_size_bytes": 600,
       "truncated_string_columns": [
        "Clients summary"
       ]
      },
      "display_id": "56fc17f4-0191-4080-9f14-7f4220445e18",
      "dx_settings": {
       "ALLOW_NOTEABLE_ATTRS": true,
       "COLUMN_SAMPLING_METHOD": "outer",
       "DB_LOCATION": ":memory:",
       "DEV_MODE": false,
       "DISPLAY_MAX_COLUMNS": 100,
       "DISPLAY_MAX_ROWS": 50000,
       "DISPLAY_MODE": "simple",
       "ENABLE_ASSIGNMENT": true,
       "ENABLE_DATALINK": true,
       "FLATTEN_COLUMN_VALUES": true,
       "FLATTEN_INDEX_VALUES": false,
       "GENERATE_DEX_METADATA": false,
       "HTML_TABLE_SCHEMA": false,
       "LOG_LEVEL": 30,
       "MAX_RENDER_SIZE_BYTES": 104857600,
       "MAX_STRING_LENGTH": 250,
       "NUM_PAST_SAMPLES_TRACKED": 3,
       "RANDOM_STATE": 12648430,
       "RESET_INDEX_VALUES": false,
       "ROW_SAMPLING_METHOD": "random",
       "SAMPLING_FACTOR": 0.1,
       "SAMPLING_METHOD": "random",
       "STRINGIFY_COLUMN_VALUES": true,
       "STRINGIFY_INDEX_VALUES": false
      },
      "sample_history": [],
      "sampling_time": "2023-07-07T16:25:22.385929",
      "user_variable_name": null,
      "variable_name": "unk_dataframe_d845eab31427499397a424f18c68bd07"
     },
     "bf578946-c7c9-4b78-b13b-59f23eff68d3": {
      "applied_filters": [],
      "dataframe_info": {
       "default_index_used": true,
       "orig_num_cols": 14,
       "orig_num_rows": 5,
       "orig_size_bytes": 600,
       "truncated_num_cols": 14,
       "truncated_num_rows": 5,
       "truncated_size_bytes": 600,
       "truncated_string_columns": [
        "Clients summary"
       ]
      },
      "display_id": "bf578946-c7c9-4b78-b13b-59f23eff68d3",
      "dx_settings": {
       "ALLOW_NOTEABLE_ATTRS": true,
       "COLUMN_SAMPLING_METHOD": "outer",
       "DB_LOCATION": ":memory:",
       "DEV_MODE": false,
       "DISPLAY_MAX_COLUMNS": 100,
       "DISPLAY_MAX_ROWS": 50000,
       "DISPLAY_MODE": "simple",
       "ENABLE_ASSIGNMENT": true,
       "ENABLE_DATALINK": true,
       "FLATTEN_COLUMN_VALUES": true,
       "FLATTEN_INDEX_VALUES": false,
       "GENERATE_DEX_METADATA": false,
       "HTML_TABLE_SCHEMA": false,
       "LOG_LEVEL": 30,
       "MAX_RENDER_SIZE_BYTES": 104857600,
       "MAX_STRING_LENGTH": 250,
       "NUM_PAST_SAMPLES_TRACKED": 3,
       "RANDOM_STATE": 12648430,
       "RESET_INDEX_VALUES": false,
       "ROW_SAMPLING_METHOD": "random",
       "SAMPLING_FACTOR": 0.1,
       "SAMPLING_METHOD": "random",
       "STRINGIFY_COLUMN_VALUES": true,
       "STRINGIFY_INDEX_VALUES": false
      },
      "sample_history": [],
      "sampling_time": "2023-07-07T17:03:58.554968",
      "user_variable_name": null,
      "variable_name": "unk_dataframe_e58d9c5a25ed40b1b2e74a9ae292afc0"
     }
    },
    "noteable": {
     "cell_type": "code",
     "output_collection_id": "aae485ac-de70-49d1-8b52-5080f94cc3b1"
    }
   },
   "outputs": [],
   "source": [
    "df['Min progect size'] = df['Min progect size'].str.replace('$', '')\n",
    "df['Min progect size'] = df['Min progect size'].str.replace('+', '')\n",
    "df['Min progect size'] = df['Min progect size'].str.replace(',', '')\n",
    "df['Min progect size'] = df['Min progect size'].str.strip()\n",
    "df.head()"
   ]
  },
  {
   "cell_type": "code",
   "execution_count": null,
   "id": "e681ee08-1610-4526-bfa9-110d6b187815",
   "metadata": {
    "ExecuteTime": {
     "end_time": "2023-07-07T17:03:58.958983+00:00",
     "start_time": "2023-07-07T17:03:58.720696+00:00"
    },
    "datalink": {
     "102b69d9-aceb-4243-bce0-b0b5514129a6": {
      "applied_filters": [],
      "dataframe_info": {
       "default_index_used": true,
       "orig_num_cols": 14,
       "orig_num_rows": 5,
       "orig_size_bytes": 600,
       "truncated_num_cols": 14,
       "truncated_num_rows": 5,
       "truncated_size_bytes": 600,
       "truncated_string_columns": [
        "Clients summary"
       ]
      },
      "display_id": "102b69d9-aceb-4243-bce0-b0b5514129a6",
      "dx_settings": {
       "ALLOW_NOTEABLE_ATTRS": true,
       "COLUMN_SAMPLING_METHOD": "outer",
       "DB_LOCATION": ":memory:",
       "DEV_MODE": false,
       "DISPLAY_MAX_COLUMNS": 100,
       "DISPLAY_MAX_ROWS": 50000,
       "DISPLAY_MODE": "simple",
       "ENABLE_ASSIGNMENT": true,
       "ENABLE_DATALINK": true,
       "FLATTEN_COLUMN_VALUES": true,
       "FLATTEN_INDEX_VALUES": false,
       "GENERATE_DEX_METADATA": false,
       "HTML_TABLE_SCHEMA": false,
       "LOG_LEVEL": 30,
       "MAX_RENDER_SIZE_BYTES": 104857600,
       "MAX_STRING_LENGTH": 250,
       "NUM_PAST_SAMPLES_TRACKED": 3,
       "RANDOM_STATE": 12648430,
       "RESET_INDEX_VALUES": false,
       "ROW_SAMPLING_METHOD": "random",
       "SAMPLING_FACTOR": 0.1,
       "SAMPLING_METHOD": "random",
       "STRINGIFY_COLUMN_VALUES": true,
       "STRINGIFY_INDEX_VALUES": false
      },
      "sample_history": [],
      "sampling_time": "2023-07-07T17:03:58.801031",
      "user_variable_name": null,
      "variable_name": "unk_dataframe_f68504b60dc04b3c9d7acd9b474a09fa"
     },
     "c09b691d-e5c0-42e2-8e19-82fd58bdfa94": {
      "applied_filters": [],
      "dataframe_info": {
       "default_index_used": true,
       "orig_num_cols": 14,
       "orig_num_rows": 5,
       "orig_size_bytes": 600,
       "truncated_num_cols": 14,
       "truncated_num_rows": 5,
       "truncated_size_bytes": 600,
       "truncated_string_columns": [
        "Clients summary"
       ]
      },
      "display_id": "c09b691d-e5c0-42e2-8e19-82fd58bdfa94",
      "dx_settings": {
       "ALLOW_NOTEABLE_ATTRS": true,
       "COLUMN_SAMPLING_METHOD": "outer",
       "DB_LOCATION": ":memory:",
       "DEV_MODE": false,
       "DISPLAY_MAX_COLUMNS": 100,
       "DISPLAY_MAX_ROWS": 50000,
       "DISPLAY_MODE": "simple",
       "ENABLE_ASSIGNMENT": true,
       "ENABLE_DATALINK": true,
       "FLATTEN_COLUMN_VALUES": true,
       "FLATTEN_INDEX_VALUES": false,
       "GENERATE_DEX_METADATA": false,
       "HTML_TABLE_SCHEMA": false,
       "LOG_LEVEL": 30,
       "MAX_RENDER_SIZE_BYTES": 104857600,
       "MAX_STRING_LENGTH": 250,
       "NUM_PAST_SAMPLES_TRACKED": 3,
       "RANDOM_STATE": 12648430,
       "RESET_INDEX_VALUES": false,
       "ROW_SAMPLING_METHOD": "random",
       "SAMPLING_FACTOR": 0.1,
       "SAMPLING_METHOD": "random",
       "STRINGIFY_COLUMN_VALUES": true,
       "STRINGIFY_INDEX_VALUES": false
      },
      "sample_history": [],
      "sampling_time": "2023-07-07T16:27:46.590388",
      "user_variable_name": null,
      "variable_name": "unk_dataframe_b5ad63ffddf048a48764a5c85c8c8a97"
     },
     "fe7303c0-7070-4ad9-9781-0c5751150409": {
      "applied_filters": [],
      "dataframe_info": {
       "default_index_used": true,
       "orig_num_cols": 14,
       "orig_num_rows": 5,
       "orig_size_bytes": 600,
       "truncated_num_cols": 14,
       "truncated_num_rows": 5,
       "truncated_size_bytes": 600,
       "truncated_string_columns": [
        "Clients summary"
       ]
      },
      "display_id": "fe7303c0-7070-4ad9-9781-0c5751150409",
      "dx_settings": {
       "ALLOW_NOTEABLE_ATTRS": true,
       "COLUMN_SAMPLING_METHOD": "outer",
       "DB_LOCATION": ":memory:",
       "DEV_MODE": false,
       "DISPLAY_MAX_COLUMNS": 100,
       "DISPLAY_MAX_ROWS": 50000,
       "DISPLAY_MODE": "simple",
       "ENABLE_ASSIGNMENT": true,
       "ENABLE_DATALINK": true,
       "FLATTEN_COLUMN_VALUES": true,
       "FLATTEN_INDEX_VALUES": false,
       "GENERATE_DEX_METADATA": false,
       "HTML_TABLE_SCHEMA": false,
       "LOG_LEVEL": 30,
       "MAX_RENDER_SIZE_BYTES": 104857600,
       "MAX_STRING_LENGTH": 250,
       "NUM_PAST_SAMPLES_TRACKED": 3,
       "RANDOM_STATE": 12648430,
       "RESET_INDEX_VALUES": false,
       "ROW_SAMPLING_METHOD": "random",
       "SAMPLING_FACTOR": 0.1,
       "SAMPLING_METHOD": "random",
       "STRINGIFY_COLUMN_VALUES": true,
       "STRINGIFY_INDEX_VALUES": false
      },
      "sample_history": [],
      "sampling_time": "2023-07-07T17:03:17.164617",
      "user_variable_name": null,
      "variable_name": "unk_dataframe_1c207d7fa53143d5981b4af1182ca7d4"
     }
    },
    "noteable": {
     "cell_type": "code",
     "output_collection_id": "9c7bc7a8-97a0-48a0-9227-500edcfbaa31"
    }
   },
   "outputs": [],
   "source": [
    "df['Min progect size'] = df['Min progect size'].fillna('0')\n",
    "df.head()"
   ]
  },
  {
   "cell_type": "code",
   "execution_count": null,
   "id": "c1b6f495-92b3-4ad3-81fd-fecd6c0a5aa2",
   "metadata": {
    "ExecuteTime": {
     "end_time": "2023-07-07T17:03:59.209230+00:00",
     "start_time": "2023-07-07T17:03:58.966667+00:00"
    },
    "datalink": {
     "3117b5ac-4a47-45c0-a701-cef4c56d5b53": {
      "applied_filters": [],
      "dataframe_info": {
       "default_index_used": true,
       "orig_num_cols": 14,
       "orig_num_rows": 5,
       "orig_size_bytes": 600,
       "truncated_num_cols": 14,
       "truncated_num_rows": 5,
       "truncated_size_bytes": 600,
       "truncated_string_columns": [
        "Clients summary"
       ]
      },
      "display_id": "3117b5ac-4a47-45c0-a701-cef4c56d5b53",
      "dx_settings": {
       "ALLOW_NOTEABLE_ATTRS": true,
       "COLUMN_SAMPLING_METHOD": "outer",
       "DB_LOCATION": ":memory:",
       "DEV_MODE": false,
       "DISPLAY_MAX_COLUMNS": 100,
       "DISPLAY_MAX_ROWS": 50000,
       "DISPLAY_MODE": "simple",
       "ENABLE_ASSIGNMENT": true,
       "ENABLE_DATALINK": true,
       "FLATTEN_COLUMN_VALUES": true,
       "FLATTEN_INDEX_VALUES": false,
       "GENERATE_DEX_METADATA": false,
       "HTML_TABLE_SCHEMA": false,
       "LOG_LEVEL": 30,
       "MAX_RENDER_SIZE_BYTES": 104857600,
       "MAX_STRING_LENGTH": 250,
       "NUM_PAST_SAMPLES_TRACKED": 3,
       "RANDOM_STATE": 12648430,
       "RESET_INDEX_VALUES": false,
       "ROW_SAMPLING_METHOD": "random",
       "SAMPLING_FACTOR": 0.1,
       "SAMPLING_METHOD": "random",
       "STRINGIFY_COLUMN_VALUES": true,
       "STRINGIFY_INDEX_VALUES": false
      },
      "sample_history": [],
      "sampling_time": "2023-07-07T16:31:39.987700",
      "user_variable_name": null,
      "variable_name": "unk_dataframe_c85da6b6b9da4a7289b8fc35fb1cc7af"
     },
     "6b31fa37-9c71-4c4a-a81b-a7f0ba203805": {
      "applied_filters": [],
      "dataframe_info": {
       "default_index_used": true,
       "orig_num_cols": 14,
       "orig_num_rows": 5,
       "orig_size_bytes": 600,
       "truncated_num_cols": 14,
       "truncated_num_rows": 5,
       "truncated_size_bytes": 600,
       "truncated_string_columns": [
        "Clients summary"
       ]
      },
      "display_id": "6b31fa37-9c71-4c4a-a81b-a7f0ba203805",
      "dx_settings": {
       "ALLOW_NOTEABLE_ATTRS": true,
       "COLUMN_SAMPLING_METHOD": "outer",
       "DB_LOCATION": ":memory:",
       "DEV_MODE": false,
       "DISPLAY_MAX_COLUMNS": 100,
       "DISPLAY_MAX_ROWS": 50000,
       "DISPLAY_MODE": "simple",
       "ENABLE_ASSIGNMENT": true,
       "ENABLE_DATALINK": true,
       "FLATTEN_COLUMN_VALUES": true,
       "FLATTEN_INDEX_VALUES": false,
       "GENERATE_DEX_METADATA": false,
       "HTML_TABLE_SCHEMA": false,
       "LOG_LEVEL": 30,
       "MAX_RENDER_SIZE_BYTES": 104857600,
       "MAX_STRING_LENGTH": 250,
       "NUM_PAST_SAMPLES_TRACKED": 3,
       "RANDOM_STATE": 12648430,
       "RESET_INDEX_VALUES": false,
       "ROW_SAMPLING_METHOD": "random",
       "SAMPLING_FACTOR": 0.1,
       "SAMPLING_METHOD": "random",
       "STRINGIFY_COLUMN_VALUES": true,
       "STRINGIFY_INDEX_VALUES": false
      },
      "sample_history": [],
      "sampling_time": "2023-07-07T17:03:59.051128",
      "user_variable_name": null,
      "variable_name": "unk_dataframe_52547d7348ef4511866970837a144b12"
     },
     "92cfe070-2e4f-4542-8832-1c3fbfb3bc99": {
      "applied_filters": [],
      "dataframe_info": {
       "default_index_used": true,
       "orig_num_cols": 14,
       "orig_num_rows": 5,
       "orig_size_bytes": 600,
       "truncated_num_cols": 14,
       "truncated_num_rows": 5,
       "truncated_size_bytes": 600,
       "truncated_string_columns": [
        "Clients summary"
       ]
      },
      "display_id": "92cfe070-2e4f-4542-8832-1c3fbfb3bc99",
      "dx_settings": {
       "ALLOW_NOTEABLE_ATTRS": true,
       "COLUMN_SAMPLING_METHOD": "outer",
       "DB_LOCATION": ":memory:",
       "DEV_MODE": false,
       "DISPLAY_MAX_COLUMNS": 100,
       "DISPLAY_MAX_ROWS": 50000,
       "DISPLAY_MODE": "simple",
       "ENABLE_ASSIGNMENT": true,
       "ENABLE_DATALINK": true,
       "FLATTEN_COLUMN_VALUES": true,
       "FLATTEN_INDEX_VALUES": false,
       "GENERATE_DEX_METADATA": false,
       "HTML_TABLE_SCHEMA": false,
       "LOG_LEVEL": 30,
       "MAX_RENDER_SIZE_BYTES": 104857600,
       "MAX_STRING_LENGTH": 250,
       "NUM_PAST_SAMPLES_TRACKED": 3,
       "RANDOM_STATE": 12648430,
       "RESET_INDEX_VALUES": false,
       "ROW_SAMPLING_METHOD": "random",
       "SAMPLING_FACTOR": 0.1,
       "SAMPLING_METHOD": "random",
       "STRINGIFY_COLUMN_VALUES": true,
       "STRINGIFY_INDEX_VALUES": false
      },
      "sample_history": [],
      "sampling_time": "2023-07-07T17:03:17.409264",
      "user_variable_name": null,
      "variable_name": "unk_dataframe_2c6652d48127491f94cd3d1cefb843d1"
     }
    },
    "noteable": {
     "cell_type": "code",
     "output_collection_id": "8b933341-401d-49d1-81ea-68f6262f9220"
    }
   },
   "outputs": [],
   "source": [
    "df['Company Size'] = df['Company Size'].str.replace(' employees', '')\n",
    "df['Company Size'] = df['Company Size'].str.replace(',', '')\n",
    "df['Company Size'] = df['Company Size'].str.strip()\n",
    "df['Company Size'] = df['Company Size'].fillna('0')\n",
    "df.head()"
   ]
  },
  {
   "cell_type": "code",
   "execution_count": null,
   "id": "298492b3-4d21-4183-b567-be2f44a58424",
   "metadata": {
    "ExecuteTime": {
     "end_time": "2023-07-07T17:03:59.460049+00:00",
     "start_time": "2023-07-07T17:03:59.216709+00:00"
    },
    "datalink": {
     "074d1fcc-311b-48c8-8134-a913faaa725d": {
      "applied_filters": [],
      "dataframe_info": {
       "default_index_used": true,
       "orig_num_cols": 14,
       "orig_num_rows": 5,
       "orig_size_bytes": 600,
       "truncated_num_cols": 14,
       "truncated_num_rows": 5,
       "truncated_size_bytes": 600,
       "truncated_string_columns": [
        "Clients summary"
       ]
      },
      "display_id": "074d1fcc-311b-48c8-8134-a913faaa725d",
      "dx_settings": {
       "ALLOW_NOTEABLE_ATTRS": true,
       "COLUMN_SAMPLING_METHOD": "outer",
       "DB_LOCATION": ":memory:",
       "DEV_MODE": false,
       "DISPLAY_MAX_COLUMNS": 100,
       "DISPLAY_MAX_ROWS": 50000,
       "DISPLAY_MODE": "simple",
       "ENABLE_ASSIGNMENT": true,
       "ENABLE_DATALINK": true,
       "FLATTEN_COLUMN_VALUES": true,
       "FLATTEN_INDEX_VALUES": false,
       "GENERATE_DEX_METADATA": false,
       "HTML_TABLE_SCHEMA": false,
       "LOG_LEVEL": 30,
       "MAX_RENDER_SIZE_BYTES": 104857600,
       "MAX_STRING_LENGTH": 250,
       "NUM_PAST_SAMPLES_TRACKED": 3,
       "RANDOM_STATE": 12648430,
       "RESET_INDEX_VALUES": false,
       "ROW_SAMPLING_METHOD": "random",
       "SAMPLING_FACTOR": 0.1,
       "SAMPLING_METHOD": "random",
       "STRINGIFY_COLUMN_VALUES": true,
       "STRINGIFY_INDEX_VALUES": false
      },
      "sample_history": [],
      "sampling_time": "2023-07-07T16:34:17.176262",
      "user_variable_name": null,
      "variable_name": "unk_dataframe_e0d9e14e09b844f69db779175a9e8ac5"
     },
     "3ed1b189-f157-40b0-84b6-e34d184ded33": {
      "applied_filters": [],
      "dataframe_info": {
       "default_index_used": true,
       "orig_num_cols": 14,
       "orig_num_rows": 5,
       "orig_size_bytes": 600,
       "truncated_num_cols": 14,
       "truncated_num_rows": 5,
       "truncated_size_bytes": 600,
       "truncated_string_columns": [
        "Clients summary"
       ]
      },
      "display_id": "3ed1b189-f157-40b0-84b6-e34d184ded33",
      "dx_settings": {
       "ALLOW_NOTEABLE_ATTRS": true,
       "COLUMN_SAMPLING_METHOD": "outer",
       "DB_LOCATION": ":memory:",
       "DEV_MODE": false,
       "DISPLAY_MAX_COLUMNS": 100,
       "DISPLAY_MAX_ROWS": 50000,
       "DISPLAY_MODE": "simple",
       "ENABLE_ASSIGNMENT": true,
       "ENABLE_DATALINK": true,
       "FLATTEN_COLUMN_VALUES": true,
       "FLATTEN_INDEX_VALUES": false,
       "GENERATE_DEX_METADATA": false,
       "HTML_TABLE_SCHEMA": false,
       "LOG_LEVEL": 30,
       "MAX_RENDER_SIZE_BYTES": 104857600,
       "MAX_STRING_LENGTH": 250,
       "NUM_PAST_SAMPLES_TRACKED": 3,
       "RANDOM_STATE": 12648430,
       "RESET_INDEX_VALUES": false,
       "ROW_SAMPLING_METHOD": "random",
       "SAMPLING_FACTOR": 0.1,
       "SAMPLING_METHOD": "random",
       "STRINGIFY_COLUMN_VALUES": true,
       "STRINGIFY_INDEX_VALUES": false
      },
      "sample_history": [],
      "sampling_time": "2023-07-07T17:03:59.302062",
      "user_variable_name": null,
      "variable_name": "unk_dataframe_3ba9fb3695ac4bb2b566e420bf52ecad"
     },
     "9ee768b9-3f38-4acf-92be-dcdf4edd4c33": {
      "applied_filters": [],
      "dataframe_info": {
       "default_index_used": true,
       "orig_num_cols": 14,
       "orig_num_rows": 5,
       "orig_size_bytes": 600,
       "truncated_num_cols": 14,
       "truncated_num_rows": 5,
       "truncated_size_bytes": 600,
       "truncated_string_columns": [
        "Clients summary"
       ]
      },
      "display_id": "9ee768b9-3f38-4acf-92be-dcdf4edd4c33",
      "dx_settings": {
       "ALLOW_NOTEABLE_ATTRS": true,
       "COLUMN_SAMPLING_METHOD": "outer",
       "DB_LOCATION": ":memory:",
       "DEV_MODE": false,
       "DISPLAY_MAX_COLUMNS": 100,
       "DISPLAY_MAX_ROWS": 50000,
       "DISPLAY_MODE": "simple",
       "ENABLE_ASSIGNMENT": true,
       "ENABLE_DATALINK": true,
       "FLATTEN_COLUMN_VALUES": true,
       "FLATTEN_INDEX_VALUES": false,
       "GENERATE_DEX_METADATA": false,
       "HTML_TABLE_SCHEMA": false,
       "LOG_LEVEL": 30,
       "MAX_RENDER_SIZE_BYTES": 104857600,
       "MAX_STRING_LENGTH": 250,
       "NUM_PAST_SAMPLES_TRACKED": 3,
       "RANDOM_STATE": 12648430,
       "RESET_INDEX_VALUES": false,
       "ROW_SAMPLING_METHOD": "random",
       "SAMPLING_FACTOR": 0.1,
       "SAMPLING_METHOD": "random",
       "STRINGIFY_COLUMN_VALUES": true,
       "STRINGIFY_INDEX_VALUES": false
      },
      "sample_history": [],
      "sampling_time": "2023-07-07T17:03:17.653993",
      "user_variable_name": null,
      "variable_name": "unk_dataframe_60ba4a12727b4d83b17a3f69ba9d92ac"
     }
    },
    "noteable": {
     "cell_type": "code",
     "output_collection_id": "5bf4e316-1d8b-4fca-ab17-8df6ff228b3f"
    }
   },
   "outputs": [],
   "source": [
    "df['Reviews'] = df['Reviews'].str.replace(' Reviews', '')\n",
    "df['Reviews'] = df['Reviews'].str.replace('(', '')\n",
    "df['Reviews'] = df['Reviews'].str.replace(')', '')\n",
    "df['Reviews'] = df['Reviews'].str.strip()\n",
    "df['Reviews'] = df['Reviews'].fillna('0')\n",
    "df.head()"
   ]
  },
  {
   "cell_type": "code",
   "execution_count": null,
   "id": "de6bb8a7-b7b1-498d-b300-aab76da1229b",
   "metadata": {
    "ExecuteTime": {
     "end_time": "2023-07-07T17:03:59.727490+00:00",
     "start_time": "2023-07-07T17:03:59.485712+00:00"
    },
    "datalink": {
     "371e0a07-9d68-40f4-82f5-8068415e461c": {
      "applied_filters": [],
      "dataframe_info": {
       "default_index_used": true,
       "orig_num_cols": 14,
       "orig_num_rows": 5,
       "orig_size_bytes": 600,
       "truncated_num_cols": 14,
       "truncated_num_rows": 5,
       "truncated_size_bytes": 600,
       "truncated_string_columns": [
        "Clients summary"
       ]
      },
      "display_id": "371e0a07-9d68-40f4-82f5-8068415e461c",
      "dx_settings": {
       "ALLOW_NOTEABLE_ATTRS": true,
       "COLUMN_SAMPLING_METHOD": "outer",
       "DB_LOCATION": ":memory:",
       "DEV_MODE": false,
       "DISPLAY_MAX_COLUMNS": 100,
       "DISPLAY_MAX_ROWS": 50000,
       "DISPLAY_MODE": "simple",
       "ENABLE_ASSIGNMENT": true,
       "ENABLE_DATALINK": true,
       "FLATTEN_COLUMN_VALUES": true,
       "FLATTEN_INDEX_VALUES": false,
       "GENERATE_DEX_METADATA": false,
       "HTML_TABLE_SCHEMA": false,
       "LOG_LEVEL": 30,
       "MAX_RENDER_SIZE_BYTES": 104857600,
       "MAX_STRING_LENGTH": 250,
       "NUM_PAST_SAMPLES_TRACKED": 3,
       "RANDOM_STATE": 12648430,
       "RESET_INDEX_VALUES": false,
       "ROW_SAMPLING_METHOD": "random",
       "SAMPLING_FACTOR": 0.1,
       "SAMPLING_METHOD": "random",
       "STRINGIFY_COLUMN_VALUES": true,
       "STRINGIFY_INDEX_VALUES": false
      },
      "sample_history": [],
      "sampling_time": "2023-07-07T17:03:17.896899",
      "user_variable_name": null,
      "variable_name": "unk_dataframe_8a6a4ae4082a45a782683e0ead126069"
     },
     "44b3cc93-ec97-4261-8a55-8770292aba15": {
      "applied_filters": [],
      "dataframe_info": {
       "default_index_used": true,
       "orig_num_cols": 14,
       "orig_num_rows": 5,
       "orig_size_bytes": 600,
       "truncated_num_cols": 14,
       "truncated_num_rows": 5,
       "truncated_size_bytes": 600,
       "truncated_string_columns": [
        "Clients summary"
       ]
      },
      "display_id": "44b3cc93-ec97-4261-8a55-8770292aba15",
      "dx_settings": {
       "ALLOW_NOTEABLE_ATTRS": true,
       "COLUMN_SAMPLING_METHOD": "outer",
       "DB_LOCATION": ":memory:",
       "DEV_MODE": false,
       "DISPLAY_MAX_COLUMNS": 100,
       "DISPLAY_MAX_ROWS": 50000,
       "DISPLAY_MODE": "simple",
       "ENABLE_ASSIGNMENT": true,
       "ENABLE_DATALINK": true,
       "FLATTEN_COLUMN_VALUES": true,
       "FLATTEN_INDEX_VALUES": false,
       "GENERATE_DEX_METADATA": false,
       "HTML_TABLE_SCHEMA": false,
       "LOG_LEVEL": 30,
       "MAX_RENDER_SIZE_BYTES": 104857600,
       "MAX_STRING_LENGTH": 250,
       "NUM_PAST_SAMPLES_TRACKED": 3,
       "RANDOM_STATE": 12648430,
       "RESET_INDEX_VALUES": false,
       "ROW_SAMPLING_METHOD": "random",
       "SAMPLING_FACTOR": 0.1,
       "SAMPLING_METHOD": "random",
       "STRINGIFY_COLUMN_VALUES": true,
       "STRINGIFY_INDEX_VALUES": false
      },
      "sample_history": [],
      "sampling_time": "2023-07-07T16:37:20.781860",
      "user_variable_name": null,
      "variable_name": "unk_dataframe_056f823f8c7f4f6f9d5d41eade33a818"
     },
     "bb12ec1d-81f6-400d-9471-216dbeaab42e": {
      "applied_filters": [],
      "dataframe_info": {
       "default_index_used": true,
       "orig_num_cols": 14,
       "orig_num_rows": 5,
       "orig_size_bytes": 600,
       "truncated_num_cols": 14,
       "truncated_num_rows": 5,
       "truncated_size_bytes": 600,
       "truncated_string_columns": [
        "Clients summary"
       ]
      },
      "display_id": "bb12ec1d-81f6-400d-9471-216dbeaab42e",
      "dx_settings": {
       "ALLOW_NOTEABLE_ATTRS": true,
       "COLUMN_SAMPLING_METHOD": "outer",
       "DB_LOCATION": ":memory:",
       "DEV_MODE": false,
       "DISPLAY_MAX_COLUMNS": 100,
       "DISPLAY_MAX_ROWS": 50000,
       "DISPLAY_MODE": "simple",
       "ENABLE_ASSIGNMENT": true,
       "ENABLE_DATALINK": true,
       "FLATTEN_COLUMN_VALUES": true,
       "FLATTEN_INDEX_VALUES": false,
       "GENERATE_DEX_METADATA": false,
       "HTML_TABLE_SCHEMA": false,
       "LOG_LEVEL": 30,
       "MAX_RENDER_SIZE_BYTES": 104857600,
       "MAX_STRING_LENGTH": 250,
       "NUM_PAST_SAMPLES_TRACKED": 3,
       "RANDOM_STATE": 12648430,
       "RESET_INDEX_VALUES": false,
       "ROW_SAMPLING_METHOD": "random",
       "SAMPLING_FACTOR": 0.1,
       "SAMPLING_METHOD": "random",
       "STRINGIFY_COLUMN_VALUES": true,
       "STRINGIFY_INDEX_VALUES": false
      },
      "sample_history": [],
      "sampling_time": "2023-07-07T17:03:59.569519",
      "user_variable_name": null,
      "variable_name": "unk_dataframe_8006a741fab943f4b6e11571f99b0c9d"
     }
    },
    "noteable": {
     "cell_type": "code",
     "output_collection_id": "8c6d2a5c-5130-4560-984f-aad4bab738c6"
    }
   },
   "outputs": [],
   "source": [
    "import numpy as np\n",
    "df['Company Size'] = df['Company Size'].apply(lambda x: np.ceil((int(x.split('-')[0]) + int(x.split('-')[1])) / 2) if '-' in x else x)\n",
    "df.head()"
   ]
  },
  {
   "cell_type": "code",
   "execution_count": null,
   "id": "0b845081-5f8c-4633-b65e-4c388a01cd2d",
   "metadata": {
    "ExecuteTime": {
     "end_time": "2023-07-07T17:04:00.004581+00:00",
     "start_time": "2023-07-07T17:03:59.746738+00:00"
    },
    "noteable": {
     "cell_type": "code",
     "output_collection_id": "863512e5-5f01-46cf-8b9d-852b3c45e42e"
    }
   },
   "outputs": [],
   "source": [
    "df['Company Size'] = df['Company Size'].astype(int)\n",
    "df.head()"
   ]
  },
  {
   "cell_type": "code",
   "execution_count": null,
   "id": "c8b84645-17eb-49f9-915e-41705fe7ae71",
   "metadata": {
    "ExecuteTime": {
     "end_time": "2023-07-07T17:32:48.379025+00:00",
     "start_time": "2023-07-07T17:32:48.129468+00:00"
    },
    "datalink": {
     "751c80b4-1110-48a7-b130-e370fd4e62f0": {
      "applied_filters": [],
      "dataframe_info": {
       "default_index_used": true,
       "orig_num_cols": 14,
       "orig_num_rows": 5,
       "orig_size_bytes": 600,
       "truncated_num_cols": 14,
       "truncated_num_rows": 5,
       "truncated_size_bytes": 600,
       "truncated_string_columns": [
        "Clients summary"
       ]
      },
      "display_id": "751c80b4-1110-48a7-b130-e370fd4e62f0",
      "dx_settings": {
       "ALLOW_NOTEABLE_ATTRS": true,
       "COLUMN_SAMPLING_METHOD": "outer",
       "DB_LOCATION": ":memory:",
       "DEV_MODE": false,
       "DISPLAY_MAX_COLUMNS": 100,
       "DISPLAY_MAX_ROWS": 50000,
       "DISPLAY_MODE": "simple",
       "ENABLE_ASSIGNMENT": true,
       "ENABLE_DATALINK": true,
       "FLATTEN_COLUMN_VALUES": true,
       "FLATTEN_INDEX_VALUES": false,
       "GENERATE_DEX_METADATA": false,
       "HTML_TABLE_SCHEMA": false,
       "LOG_LEVEL": 30,
       "MAX_RENDER_SIZE_BYTES": 104857600,
       "MAX_STRING_LENGTH": 250,
       "NUM_PAST_SAMPLES_TRACKED": 3,
       "RANDOM_STATE": 12648430,
       "RESET_INDEX_VALUES": false,
       "ROW_SAMPLING_METHOD": "random",
       "SAMPLING_FACTOR": 0.1,
       "SAMPLING_METHOD": "random",
       "STRINGIFY_COLUMN_VALUES": true,
       "STRINGIFY_INDEX_VALUES": false
      },
      "sample_history": [],
      "sampling_time": "2023-07-07T16:43:59.722528",
      "user_variable_name": null,
      "variable_name": "unk_dataframe_ecb4fb8dd78e4e6e9214350824b3c436"
     },
     "d3846c48-c4b4-48dd-a0d2-2bc1231e4975": {
      "applied_filters": [],
      "dataframe_info": {
       "default_index_used": true,
       "orig_num_cols": 14,
       "orig_num_rows": 5,
       "orig_size_bytes": 600,
       "truncated_num_cols": 14,
       "truncated_num_rows": 5,
       "truncated_size_bytes": 600,
       "truncated_string_columns": [
        "Clients summary"
       ]
      },
      "display_id": "d3846c48-c4b4-48dd-a0d2-2bc1231e4975",
      "dx_settings": {
       "ALLOW_NOTEABLE_ATTRS": true,
       "COLUMN_SAMPLING_METHOD": "outer",
       "DB_LOCATION": ":memory:",
       "DEV_MODE": false,
       "DISPLAY_MAX_COLUMNS": 100,
       "DISPLAY_MAX_ROWS": 50000,
       "DISPLAY_MODE": "simple",
       "ENABLE_ASSIGNMENT": true,
       "ENABLE_DATALINK": true,
       "FLATTEN_COLUMN_VALUES": true,
       "FLATTEN_INDEX_VALUES": false,
       "GENERATE_DEX_METADATA": false,
       "HTML_TABLE_SCHEMA": false,
       "LOG_LEVEL": 30,
       "MAX_RENDER_SIZE_BYTES": 104857600,
       "MAX_STRING_LENGTH": 250,
       "NUM_PAST_SAMPLES_TRACKED": 3,
       "RANDOM_STATE": 12648430,
       "RESET_INDEX_VALUES": false,
       "ROW_SAMPLING_METHOD": "random",
       "SAMPLING_FACTOR": 0.1,
       "SAMPLING_METHOD": "random",
       "STRINGIFY_COLUMN_VALUES": true,
       "STRINGIFY_INDEX_VALUES": false
      },
      "sample_history": [],
      "sampling_time": "2023-07-07T17:32:48.220666",
      "user_variable_name": null,
      "variable_name": "unk_dataframe_ff34b5f3633e4859aac44af4544acc0b"
     }
    },
    "noteable": {
     "cell_type": "code",
     "output_collection_id": "b63933a7-34ec-46b5-9333-dacf19f1b50d"
    }
   },
   "outputs": [],
   "source": [
    "df['Company Size'] = df['Company Size'].replace('10000+', '10000')\n",
    "df['Company Size'] = df['Company Size'].astype(int)\n",
    "df.head()"
   ]
  },
  {
   "cell_type": "code",
   "execution_count": null,
   "id": "c088da50-3ac0-460e-a170-d8242df019f3",
   "metadata": {
    "ExecuteTime": {
     "end_time": "2023-07-07T17:34:20.362935+00:00",
     "start_time": "2023-07-07T17:34:20.186142+00:00"
    },
    "noteable": {
     "cell_type": "code",
     "output_collection_id": "3f1a1163-9df6-469d-a068-7dda5bfd7de0"
    }
   },
   "outputs": [],
   "source": [
    "df['Company Size'] = df['Company Size'].astype(int)\n",
    "df.to_csv('Companies_2.csv', index=False)"
   ]
  },
  {
   "cell_type": "code",
   "execution_count": null,
   "id": "deebfc79-a636-4725-ab55-a5a36f51b08b",
   "metadata": {
    "ExecuteTime": {
     "end_time": "2023-07-07T17:53:06.425682+00:00",
     "start_time": "2023-07-07T17:53:06.186401+00:00"
    },
    "datalink": {
     "87937d09-0eb5-4bf3-aedf-ad4465da6499": {
      "applied_filters": [],
      "dataframe_info": {
       "default_index_used": true,
       "orig_num_cols": 14,
       "orig_num_rows": 5,
       "orig_size_bytes": 600,
       "truncated_num_cols": 14,
       "truncated_num_rows": 5,
       "truncated_size_bytes": 600,
       "truncated_string_columns": [
        "Clients summary"
       ]
      },
      "display_id": "87937d09-0eb5-4bf3-aedf-ad4465da6499",
      "dx_settings": {
       "ALLOW_NOTEABLE_ATTRS": true,
       "COLUMN_SAMPLING_METHOD": "outer",
       "DB_LOCATION": ":memory:",
       "DEV_MODE": false,
       "DISPLAY_MAX_COLUMNS": 100,
       "DISPLAY_MAX_ROWS": 50000,
       "DISPLAY_MODE": "simple",
       "ENABLE_ASSIGNMENT": true,
       "ENABLE_DATALINK": true,
       "FLATTEN_COLUMN_VALUES": true,
       "FLATTEN_INDEX_VALUES": false,
       "GENERATE_DEX_METADATA": false,
       "HTML_TABLE_SCHEMA": false,
       "LOG_LEVEL": 30,
       "MAX_RENDER_SIZE_BYTES": 104857600,
       "MAX_STRING_LENGTH": 250,
       "NUM_PAST_SAMPLES_TRACKED": 3,
       "RANDOM_STATE": 12648430,
       "RESET_INDEX_VALUES": false,
       "ROW_SAMPLING_METHOD": "random",
       "SAMPLING_FACTOR": 0.1,
       "SAMPLING_METHOD": "random",
       "STRINGIFY_COLUMN_VALUES": true,
       "STRINGIFY_INDEX_VALUES": false
      },
      "sample_history": [],
      "sampling_time": "2023-07-07T17:53:06.262064",
      "user_variable_name": null,
      "variable_name": "unk_dataframe_1db2b1214e81428cabd539c3fa6e8594"
     }
    },
    "noteable": {
     "cell_type": "code",
     "output_collection_id": "cc2c695d-2b9e-41fe-8453-15670625e0d5"
    }
   },
   "outputs": [],
   "source": [
    "df = pd.read_csv('Companies_2.csv')\n",
    "df.head()"
   ]
  },
  {
   "cell_type": "code",
   "execution_count": null,
   "id": "6ddcac6b-6367-4c3f-94e1-a9b848b4c7ba",
   "metadata": {
    "ExecuteTime": {
     "end_time": "2023-07-07T17:54:10.412253+00:00",
     "start_time": "2023-07-07T17:54:09.385629+00:00"
    },
    "datalink": {
     "d763b00c-e421-4e54-9de7-88388849b2dd": {
      "applied_filters": [],
      "dataframe_info": {
       "default_index_used": true,
       "orig_num_cols": 15,
       "orig_num_rows": 5,
       "orig_size_bytes": 620,
       "truncated_num_cols": 15,
       "truncated_num_rows": 5,
       "truncated_size_bytes": 620,
       "truncated_string_columns": [
        "Clients summary"
       ]
      },
      "display_id": "d763b00c-e421-4e54-9de7-88388849b2dd",
      "dx_settings": {
       "ALLOW_NOTEABLE_ATTRS": true,
       "COLUMN_SAMPLING_METHOD": "outer",
       "DB_LOCATION": ":memory:",
       "DEV_MODE": false,
       "DISPLAY_MAX_COLUMNS": 100,
       "DISPLAY_MAX_ROWS": 50000,
       "DISPLAY_MODE": "simple",
       "ENABLE_ASSIGNMENT": true,
       "ENABLE_DATALINK": true,
       "FLATTEN_COLUMN_VALUES": true,
       "FLATTEN_INDEX_VALUES": false,
       "GENERATE_DEX_METADATA": false,
       "HTML_TABLE_SCHEMA": false,
       "LOG_LEVEL": 30,
       "MAX_RENDER_SIZE_BYTES": 104857600,
       "MAX_STRING_LENGTH": 250,
       "NUM_PAST_SAMPLES_TRACKED": 3,
       "RANDOM_STATE": 12648430,
       "RESET_INDEX_VALUES": false,
       "ROW_SAMPLING_METHOD": "random",
       "SAMPLING_FACTOR": 0.1,
       "SAMPLING_METHOD": "random",
       "STRINGIFY_COLUMN_VALUES": true,
       "STRINGIFY_INDEX_VALUES": false
      },
      "sample_history": [],
      "sampling_time": "2023-07-07T17:54:10.242504",
      "user_variable_name": null,
      "variable_name": "unk_dataframe_61edea711da14ec68864504d12127049"
     }
    },
    "noteable": {
     "cell_type": "code",
     "output_collection_id": "0e2976f0-6b5a-4929-8405-d951a0d4be6d"
    }
   },
   "outputs": [],
   "source": [
    "from sklearn.cluster import KMeans\n",
    "from sklearn.preprocessing import StandardScaler, OneHotEncoder\n",
    "from sklearn.compose import ColumnTransformer\n",
    "from sklearn.pipeline import Pipeline\n",
    "numeric_features = ['Min progect size', 'Company Size', 'Scheduling', 'Quality', 'Cost']\n",
    "categorical_features = ['City']\n",
    "numeric_transformer = StandardScaler()\n",
    "categorical_transformer = OneHotEncoder()\n",
    "preprocessor = ColumnTransformer(transformers=[\n",
    "    ('num', numeric_transformer, numeric_features),\n",
    "    ('cat', categorical_transformer, categorical_features)])\n",
    "clustering = Pipeline(steps=[('preprocessor', preprocessor),\n",
    "                             ('cluster', KMeans(n_clusters=3))])\n",
    "clustering.fit(df[numeric_features + categorical_features])\n",
    "df['cluster'] = clustering['cluster'].labels_\n",
    "df.head()"
   ]
  },
  {
   "cell_type": "code",
   "execution_count": null,
   "id": "bc050fe2-2f6a-4ea7-8f51-28b1e394d0a5",
   "metadata": {
    "ExecuteTime": {
     "end_time": "2023-07-07T17:54:40.236219+00:00",
     "start_time": "2023-07-07T17:54:39.959031+00:00"
    },
    "noteable": {
     "cell_type": "code",
     "output_collection_id": "7efffec4-21a5-4108-a329-87ffbd5b7b2a"
    }
   },
   "outputs": [],
   "source": [
    "from sklearn.cluster import DBSCAN\n",
    "clustering = Pipeline(steps=[('preprocessor', preprocessor),\n",
    "                             ('cluster', DBSCAN(eps=0.5, min_samples=5))])\n",
    "clustering.fit(df[numeric_features + categorical_features])\n",
    "df['cluster_DBSCAN'] = clustering['cluster'].labels_\n",
    "df.head()"
   ]
  },
  {
   "cell_type": "code",
   "execution_count": null,
   "id": "5943b1a6-f852-4a01-b695-6b789aa0425b",
   "metadata": {
    "ExecuteTime": {
     "end_time": "2023-07-07T18:15:22.441736+00:00",
     "start_time": "2023-07-07T18:15:22.281256+00:00"
    },
    "jupyter": {
     "outputs_hidden": false,
     "source_hidden": false
    },
    "noteable": {
     "cell_type": "code",
     "output_collection_id": "9d3cc751-ec22-43b6-8ba1-5b4485e97dc8"
    }
   },
   "outputs": [],
   "source": [
    "df.to_csv('Companies_2.csv', index=False)"
   ]
  }
 ],
 "metadata": {
  "display_mode": "default",
  "kernelspec": {
   "display_name": "Python 3 (ipykernel)",
   "language": "python",
   "name": "python3"
  },
  "language_info": {
   "codemirror_mode": {
    "name": "ipython",
    "version": 3
   },
   "file_extension": ".py",
   "mimetype": "text/x-python",
   "name": "python",
   "nbconvert_exporter": "python",
   "pygments_lexer": "ipython3",
   "version": "3.10.11"
  },
  "noteable": {
   "last_transaction_id": "be4ff327-e7fe-4b44-9928-de2544e77996"
  },
  "selected_hardware_size": "small"
 },
 "nbformat": 4,
 "nbformat_minor": 5
}
